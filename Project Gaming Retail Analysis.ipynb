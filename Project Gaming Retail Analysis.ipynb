{
 "cells": [
  {
   "cell_type": "markdown",
   "metadata": {},
   "source": [
    "# Описание проекта"
   ]
  },
  {
   "cell_type": "markdown",
   "metadata": {},
   "source": [
    "Вы работаете в интернет-магазине «Стримчик», который продаёт по всему миру компьютерные игры. Из открытых источников доступны исторические данные о продажах игр, оценки пользователей и экспертов, жанры и платформы (например, Xbox или PlayStation). Вам нужно выявить определяющие успешность игры закономерности. Это позволит сделать ставку на потенциально популярный продукт и спланировать рекламные кампании. <br>\n",
    "Перед вами данные до 2016 года. Представим, что сейчас декабрь 2016 г., и вы планируете кампанию на 2017-й. Нужно отработать принцип работы с данными. Неважно, прогнозируете ли вы продажи на 2017 год по данным 2016-го или же 2027-й — по данным 2026 года. <br>\n",
    "В наборе данных попадается аббревиатура ESRB (Entertainment Software Rating Board) — это ассоциация, определяющая возрастной рейтинг компьютерных игр. ESRB оценивает игровой контент и присваивает ему подходящую возрастную категорию, например, «Для взрослых», «Для детей младшего возраста» или «Для подростков». "
   ]
  },
  {
   "cell_type": "markdown",
   "metadata": {},
   "source": [
    "## Импортируем датасет и изучим общую информацию"
   ]
  },
  {
   "cell_type": "code",
   "execution_count": 1,
   "metadata": {},
   "outputs": [],
   "source": [
    "import pandas as pd\n",
    "import numpy as np\n",
    "import matplotlib.pyplot as plt\n",
    "from scipy.stats import ttest_ind\n",
    "import seaborn as sns\n",
    "from scipy import stats as st"
   ]
  },
  {
   "cell_type": "code",
   "execution_count": 2,
   "metadata": {},
   "outputs": [],
   "source": [
    "data = pd.read_csv('/datasets/games.csv')"
   ]
  },
  {
   "cell_type": "code",
   "execution_count": 3,
   "metadata": {
    "scrolled": true
   },
   "outputs": [
    {
     "name": "stdout",
     "output_type": "stream",
     "text": [
      "<class 'pandas.core.frame.DataFrame'>\n",
      "RangeIndex: 16715 entries, 0 to 16714\n",
      "Data columns (total 11 columns):\n",
      " #   Column           Non-Null Count  Dtype  \n",
      "---  ------           --------------  -----  \n",
      " 0   Name             16713 non-null  object \n",
      " 1   Platform         16715 non-null  object \n",
      " 2   Year_of_Release  16446 non-null  float64\n",
      " 3   Genre            16713 non-null  object \n",
      " 4   NA_sales         16715 non-null  float64\n",
      " 5   EU_sales         16715 non-null  float64\n",
      " 6   JP_sales         16715 non-null  float64\n",
      " 7   Other_sales      16715 non-null  float64\n",
      " 8   Critic_Score     8137 non-null   float64\n",
      " 9   User_Score       10014 non-null  object \n",
      " 10  Rating           9949 non-null   object \n",
      "dtypes: float64(6), object(5)\n",
      "memory usage: 1.4+ MB\n"
     ]
    }
   ],
   "source": [
    "data.info()"
   ]
  },
  {
   "cell_type": "markdown",
   "metadata": {},
   "source": [
    "**Поиск явных дубликатов**"
   ]
  },
  {
   "cell_type": "code",
   "execution_count": 4,
   "metadata": {},
   "outputs": [
    {
     "data": {
      "text/plain": [
       "0"
      ]
     },
     "execution_count": 4,
     "metadata": {},
     "output_type": "execute_result"
    }
   ],
   "source": [
    "data.duplicated().sum() "
   ]
  },
  {
   "cell_type": "markdown",
   "metadata": {},
   "source": [
    "Явные дубликаты отсуствуют"
   ]
  },
  {
   "cell_type": "markdown",
   "metadata": {},
   "source": [
    "**Описание данных**\n",
    "- Name — название игры\n",
    "- Platform — платформа\n",
    "- Year_of_Release — год выпуска\n",
    "- Genre — жанр игры\n",
    "- NA_sales — продажи в Северной Америке (миллионы проданных копий)\n",
    "- EU_sales — продажи в Европе (миллионы проданных копий)\n",
    "- JP_sales — продажи в Японии (миллионы проданных копий)\n",
    "- Other_sales — продажи в других странах (миллионы проданных копий)\n",
    "- Critic_Score — оценка критиков (максимум 100)\n",
    "- User_Score — оценка пользователей (максимум 10)\n",
    "- Rating — рейтинг от организации ESRB (англ. Entertainment Software Rating Board). Эта ассоциация определяет рейтинг компьютерных игр и присваивает им подходящую возрастную категорию."
   ]
  },
  {
   "cell_type": "markdown",
   "metadata": {},
   "source": [
    "## Подготовка данных"
   ]
  },
  {
   "cell_type": "markdown",
   "metadata": {},
   "source": [
    "### Приводим название стобцов к нижнему регистру"
   ]
  },
  {
   "cell_type": "code",
   "execution_count": 5,
   "metadata": {},
   "outputs": [],
   "source": [
    "data.columns = map(str.lower, data.columns)"
   ]
  },
  {
   "cell_type": "markdown",
   "metadata": {},
   "source": [
    "### Преобразуем данные к нужному типу"
   ]
  },
  {
   "cell_type": "code",
   "execution_count": 6,
   "metadata": {
    "scrolled": true
   },
   "outputs": [
    {
     "data": {
      "text/html": [
       "<div>\n",
       "<style scoped>\n",
       "    .dataframe tbody tr th:only-of-type {\n",
       "        vertical-align: middle;\n",
       "    }\n",
       "\n",
       "    .dataframe tbody tr th {\n",
       "        vertical-align: top;\n",
       "    }\n",
       "\n",
       "    .dataframe thead th {\n",
       "        text-align: right;\n",
       "    }\n",
       "</style>\n",
       "<table border=\"1\" class=\"dataframe\">\n",
       "  <thead>\n",
       "    <tr style=\"text-align: right;\">\n",
       "      <th></th>\n",
       "      <th>name</th>\n",
       "      <th>platform</th>\n",
       "      <th>year_of_release</th>\n",
       "      <th>genre</th>\n",
       "      <th>na_sales</th>\n",
       "      <th>eu_sales</th>\n",
       "      <th>jp_sales</th>\n",
       "      <th>other_sales</th>\n",
       "      <th>critic_score</th>\n",
       "      <th>user_score</th>\n",
       "      <th>rating</th>\n",
       "    </tr>\n",
       "  </thead>\n",
       "  <tbody>\n",
       "    <tr>\n",
       "      <th>0</th>\n",
       "      <td>Wii Sports</td>\n",
       "      <td>Wii</td>\n",
       "      <td>2006.0</td>\n",
       "      <td>Sports</td>\n",
       "      <td>41.36</td>\n",
       "      <td>28.96</td>\n",
       "      <td>3.77</td>\n",
       "      <td>8.45</td>\n",
       "      <td>76.0</td>\n",
       "      <td>8</td>\n",
       "      <td>E</td>\n",
       "    </tr>\n",
       "    <tr>\n",
       "      <th>1</th>\n",
       "      <td>Super Mario Bros.</td>\n",
       "      <td>NES</td>\n",
       "      <td>1985.0</td>\n",
       "      <td>Platform</td>\n",
       "      <td>29.08</td>\n",
       "      <td>3.58</td>\n",
       "      <td>6.81</td>\n",
       "      <td>0.77</td>\n",
       "      <td>NaN</td>\n",
       "      <td>NaN</td>\n",
       "      <td>NaN</td>\n",
       "    </tr>\n",
       "    <tr>\n",
       "      <th>2</th>\n",
       "      <td>Mario Kart Wii</td>\n",
       "      <td>Wii</td>\n",
       "      <td>2008.0</td>\n",
       "      <td>Racing</td>\n",
       "      <td>15.68</td>\n",
       "      <td>12.76</td>\n",
       "      <td>3.79</td>\n",
       "      <td>3.29</td>\n",
       "      <td>82.0</td>\n",
       "      <td>8.3</td>\n",
       "      <td>E</td>\n",
       "    </tr>\n",
       "    <tr>\n",
       "      <th>3</th>\n",
       "      <td>Wii Sports Resort</td>\n",
       "      <td>Wii</td>\n",
       "      <td>2009.0</td>\n",
       "      <td>Sports</td>\n",
       "      <td>15.61</td>\n",
       "      <td>10.93</td>\n",
       "      <td>3.28</td>\n",
       "      <td>2.95</td>\n",
       "      <td>80.0</td>\n",
       "      <td>8</td>\n",
       "      <td>E</td>\n",
       "    </tr>\n",
       "    <tr>\n",
       "      <th>4</th>\n",
       "      <td>Pokemon Red/Pokemon Blue</td>\n",
       "      <td>GB</td>\n",
       "      <td>1996.0</td>\n",
       "      <td>Role-Playing</td>\n",
       "      <td>11.27</td>\n",
       "      <td>8.89</td>\n",
       "      <td>10.22</td>\n",
       "      <td>1.00</td>\n",
       "      <td>NaN</td>\n",
       "      <td>NaN</td>\n",
       "      <td>NaN</td>\n",
       "    </tr>\n",
       "  </tbody>\n",
       "</table>\n",
       "</div>"
      ],
      "text/plain": [
       "                       name platform  year_of_release         genre  na_sales  \\\n",
       "0                Wii Sports      Wii           2006.0        Sports     41.36   \n",
       "1         Super Mario Bros.      NES           1985.0      Platform     29.08   \n",
       "2            Mario Kart Wii      Wii           2008.0        Racing     15.68   \n",
       "3         Wii Sports Resort      Wii           2009.0        Sports     15.61   \n",
       "4  Pokemon Red/Pokemon Blue       GB           1996.0  Role-Playing     11.27   \n",
       "\n",
       "   eu_sales  jp_sales  other_sales  critic_score user_score rating  \n",
       "0     28.96      3.77         8.45          76.0          8      E  \n",
       "1      3.58      6.81         0.77           NaN        NaN    NaN  \n",
       "2     12.76      3.79         3.29          82.0        8.3      E  \n",
       "3     10.93      3.28         2.95          80.0          8      E  \n",
       "4      8.89     10.22         1.00           NaN        NaN    NaN  "
      ]
     },
     "metadata": {},
     "output_type": "display_data"
    }
   ],
   "source": [
    "display(data.head())"
   ]
  },
  {
   "cell_type": "markdown",
   "metadata": {},
   "source": [
    "В столбце user_score имееться аббревиатура \"TBD\". <br>\n",
    "TBD [To Be Determined] - дословный перевод \"подлежит определению\", данные проекты малопопулярны из-за этого рейтинг этих игр у игроков не известен, слишком малое количество оценок от игроков.<br>\n",
    "Стоит заменить TBD на Nan "
   ]
  },
  {
   "cell_type": "code",
   "execution_count": 7,
   "metadata": {},
   "outputs": [
    {
     "name": "stdout",
     "output_type": "stream",
     "text": [
      "['8' nan '8.3' '8.5' '6.6' '8.4' '8.6' '7.7' '6.3' '7.4' '8.2' '9' '7.9'\n",
      " '8.1' '8.7' '7.1' '3.4' '5.3' '4.8' '3.2' '8.9' '6.4' '7.8' '7.5' '2.6'\n",
      " '7.2' '9.2' '7' '7.3' '4.3' '7.6' '5.7' '5' '9.1' '6.5' 'tbd' '8.8' '6.9'\n",
      " '9.4' '6.8' '6.1' '6.7' '5.4' '4' '4.9' '4.5' '9.3' '6.2' '4.2' '6' '3.7'\n",
      " '4.1' '5.8' '5.6' '5.5' '4.4' '4.6' '5.9' '3.9' '3.1' '2.9' '5.2' '3.3'\n",
      " '4.7' '5.1' '3.5' '2.5' '1.9' '3' '2.7' '2.2' '2' '9.5' '2.1' '3.6' '2.8'\n",
      " '1.8' '3.8' '0' '1.6' '9.6' '2.4' '1.7' '1.1' '0.3' '1.5' '0.7' '1.2'\n",
      " '2.3' '0.5' '1.3' '0.2' '0.6' '1.4' '0.9' '1' '9.7']\n"
     ]
    }
   ],
   "source": [
    "print(data['user_score'].unique())\n",
    "#заменим TBD на Nan\n",
    "data['user_score'] = data['user_score'].replace('tbd', np.NaN)\n",
    "data['user_score'] = data['user_score'].astype('float')"
   ]
  },
  {
   "cell_type": "code",
   "execution_count": 8,
   "metadata": {},
   "outputs": [],
   "source": [
    "data['user_score'] = pd.to_numeric(data.user_score, errors='coerce')\n",
    "#data['year_of_release'] = pd.to_datetime(data.year_of_release, format='%Y')\n",
    "#data['year_of_release'] = data['year_of_release'].dt.year"
   ]
  },
  {
   "cell_type": "markdown",
   "metadata": {},
   "source": [
    "<br> **Изменения внесенные в типы данных.** <br>\n",
    "name - без изменений <br>\n",
    "platform - без изменений<br>\n",
    "year_of_release - без изменений<br>\n",
    "genre - без изменений<br>\n",
    "na_sales, eu_sales, jp_sales, other_sales- без изменений<br>\n",
    "critic_score - без изменений<br>\n",
    "user_score - переводим в формат float<br>\n",
    "rating - переводим в формат категории<br>"
   ]
  },
  {
   "cell_type": "markdown",
   "metadata": {},
   "source": [
    "### Обработка пропусков"
   ]
  },
  {
   "cell_type": "code",
   "execution_count": 9,
   "metadata": {},
   "outputs": [
    {
     "data": {
      "text/plain": [
       "name                  2\n",
       "platform              0\n",
       "year_of_release     269\n",
       "genre                 2\n",
       "na_sales              0\n",
       "eu_sales              0\n",
       "jp_sales              0\n",
       "other_sales           0\n",
       "critic_score       8578\n",
       "user_score         9125\n",
       "rating             6766\n",
       "dtype: int64"
      ]
     },
     "execution_count": 9,
     "metadata": {},
     "output_type": "execute_result"
    }
   ],
   "source": [
    "data.isnull().sum() #Определяем основные столбцы с пропусками"
   ]
  },
  {
   "cell_type": "markdown",
   "metadata": {},
   "source": [
    "Заглушки удалены, данные остануться без изменений."
   ]
  },
  {
   "cell_type": "code",
   "execution_count": 10,
   "metadata": {},
   "outputs": [],
   "source": [
    "#Заменим пропущенные значения на \"undefiend\"\n",
    "data[\"rating\"] = data['rating'].fillna(\"undefined\")"
   ]
  },
  {
   "cell_type": "markdown",
   "metadata": {},
   "source": [
    "В сонове своей пропуски сосредоточены в \"рейтинговой\" части, моду на рейтинги ввели относительно недавно. Так же возможно наличие в датасете малоизвестных проектов - соотведственно у них может и не быть рейтинга. <br>\n",
    "Так же не стоит отбрасывать вариант - возникновение пропусков из-за неудачной выгрузки данных. <br>\n",
    "Пока что оставим все без изменений."
   ]
  },
  {
   "cell_type": "markdown",
   "metadata": {},
   "source": [
    "### Сумарные продажи"
   ]
  },
  {
   "cell_type": "markdown",
   "metadata": {},
   "source": [
    "Введенм столбец total_sales в котором просуммируем стобцы с продажами в отдельных регионах."
   ]
  },
  {
   "cell_type": "code",
   "execution_count": 11,
   "metadata": {},
   "outputs": [],
   "source": [
    "data['total_sales'] = data['na_sales'] + data['eu_sales'] + data['jp_sales'] + data['other_sales']"
   ]
  },
  {
   "cell_type": "code",
   "execution_count": 12,
   "metadata": {},
   "outputs": [
    {
     "name": "stdout",
     "output_type": "stream",
     "text": [
      "<class 'pandas.core.frame.DataFrame'>\n",
      "RangeIndex: 16715 entries, 0 to 16714\n",
      "Data columns (total 12 columns):\n",
      " #   Column           Non-Null Count  Dtype  \n",
      "---  ------           --------------  -----  \n",
      " 0   name             16713 non-null  object \n",
      " 1   platform         16715 non-null  object \n",
      " 2   year_of_release  16446 non-null  float64\n",
      " 3   genre            16713 non-null  object \n",
      " 4   na_sales         16715 non-null  float64\n",
      " 5   eu_sales         16715 non-null  float64\n",
      " 6   jp_sales         16715 non-null  float64\n",
      " 7   other_sales      16715 non-null  float64\n",
      " 8   critic_score     8137 non-null   float64\n",
      " 9   user_score       7590 non-null   float64\n",
      " 10  rating           16715 non-null  object \n",
      " 11  total_sales      16715 non-null  float64\n",
      "dtypes: float64(8), object(4)\n",
      "memory usage: 1.5+ MB\n",
      "None\n",
      "-------------------------\n",
      "name [' Beyblade Burst' ' Fire Emblem Fates' \" Frozen: Olaf's Quest\" ...\n",
      " 'wwe Smackdown vs. Raw 2006' '¡Shin Chan Flipa en colores!' nan]\n",
      "name : кол-во NaN 2 , процент NaN 0.01 %\n",
      "-------------------------\n",
      "platform ['2600' '3DO' '3DS' 'DC' 'DS' 'GB' 'GBA' 'GC' 'GEN' 'GG' 'N64' 'NES' 'NG'\n",
      " 'PC' 'PCFX' 'PS' 'PS2' 'PS3' 'PS4' 'PSP' 'PSV' 'SAT' 'SCD' 'SNES' 'TG16'\n",
      " 'WS' 'Wii' 'WiiU' 'X360' 'XB' 'XOne']\n",
      "platform : кол-во NaN 0 , процент NaN 0.0 %\n",
      "-------------------------\n",
      "year_of_release [1980. 1981. 1982. 1983. 1984. 1985. 1986. 1987. 1988. 1989. 1990. 1991.\n",
      " 1992. 1993. 1994. 1995. 1996. 1997. 1998. 1999. 2000. 2001. 2002. 2003.\n",
      " 2004. 2005. 2006. 2007. 2008. 2009. 2010. 2011. 2012. 2013. 2014. 2015.\n",
      " 2016.   nan]\n",
      "year_of_release : кол-во NaN 269 , процент NaN 1.61 %\n",
      "-------------------------\n",
      "genre ['Action' 'Adventure' 'Fighting' 'Misc' 'Platform' 'Puzzle' 'Racing'\n",
      " 'Role-Playing' 'Shooter' 'Simulation' 'Sports' 'Strategy' nan]\n",
      "genre : кол-во NaN 2 , процент NaN 0.01 %\n",
      "-------------------------\n",
      "critic_score [13. 17. 19. 20. 21. 22. 23. 24. 25. 26. 27. 28. 29. 30. 31. 32. 33. 34.\n",
      " 35. 36. 37. 38. 39. 40. 41. 42. 43. 44. 45. 46. 47. 48. 49. 50. 51. 52.\n",
      " 53. 54. 55. 56. 57. 58. 59. 60. 61. 62. 63. 64. 65. 66. 67. 68. 69. 70.\n",
      " 71. 72. 73. 74. 75. 76. 77. 78. 79. 80. 81. 82. 83. 84. 85. 86. 87. 88.\n",
      " 89. 90. 91. 92. 93. 94. 95. 96. 97. 98. nan]\n",
      "critic_score : кол-во NaN 8578 , процент NaN 51.32 %\n",
      "-------------------------\n",
      "user_score [0.  0.2 0.3 0.5 0.6 0.7 0.9 1.  1.1 1.2 1.3 1.4 1.5 1.6 1.7 1.8 1.9 2.\n",
      " 2.1 2.2 2.3 2.4 2.5 2.6 2.7 2.8 2.9 3.  3.1 3.2 3.3 3.4 3.5 3.6 3.7 3.8\n",
      " 3.9 4.  4.1 4.2 4.3 4.4 4.5 4.6 4.7 4.8 4.9 5.  5.1 5.2 5.3 5.4 5.5 5.6\n",
      " 5.7 5.8 5.9 6.  6.1 6.2 6.3 6.4 6.5 6.6 6.7 6.8 6.9 7.  7.1 7.2 7.3 7.4\n",
      " 7.5 7.6 7.7 7.8 7.9 8.  8.1 8.2 8.3 8.4 8.5 8.6 8.7 8.8 8.9 9.  9.1 9.2\n",
      " 9.3 9.4 9.5 9.6 9.7 nan]\n",
      "user_score : кол-во NaN 9125 , процент NaN 54.59 %\n",
      "-------------------------\n",
      "rating ['AO' 'E' 'E10+' 'EC' 'K-A' 'M' 'RP' 'T' 'undefined']\n",
      "rating : кол-во NaN 0 , процент NaN 0.0 %\n"
     ]
    }
   ],
   "source": [
    "# Комментарий ревьюера\n",
    "# Посмотрим, что у нас осталось\n",
    "temp = data.copy() \n",
    "list_c = ['name', 'platform', 'year_of_release', 'genre', 'critic_score', 'user_score', 'rating']\n",
    "print(temp.info())\n",
    "for col_l in list_c:\n",
    "  print('-'* 25)\n",
    "  print(col_l, temp[col_l].sort_values().unique())\n",
    "  print(col_l,': кол-во NaN',temp[col_l].isna().sum(),\n",
    "        ', процент NaN', round(temp[col_l].isna().sum()/len(temp)*100, 2),'%')"
   ]
  },
  {
   "cell_type": "markdown",
   "metadata": {},
   "source": [
    "## Исследовательский анализ данных"
   ]
  },
  {
   "cell_type": "code",
   "execution_count": 13,
   "metadata": {},
   "outputs": [
    {
     "data": {
      "text/plain": [
       "<AxesSubplot:title={'center':'games per year'}, ylabel='Frequency'>"
      ]
     },
     "execution_count": 13,
     "metadata": {},
     "output_type": "execute_result"
    },
    {
     "data": {
      "image/png": "[encoded data removed]",
      "text/plain": [
       "<Figure size 432x288 with 1 Axes>"
      ]
     },
     "metadata": {
      "needs_background": "light"
     },
     "output_type": "display_data"
    }
   ],
   "source": [
    "data['year_of_release'].plot(kind='hist',bins=35,title='games per year')"
   ]
  },
  {
   "cell_type": "markdown",
   "metadata": {},
   "source": [
    "Игры начали выходить с 1980, но наибольшее количество игр начали выпускать с середины 90х, с эпохи расвета первых консолей. <br>\n",
    "Стоит рассматривать данные с 1995 года.\n"
   ]
  },
  {
   "cell_type": "code",
   "execution_count": 14,
   "metadata": {},
   "outputs": [
    {
     "data": {
      "text/plain": [
       "platform\n",
       "PS2     1255.77\n",
       "X360     971.42\n",
       "PS3      939.65\n",
       "Wii      907.51\n",
       "DS       806.12\n",
       "PS       730.86\n",
       "GBA      317.85\n",
       "PS4      314.14\n",
       "PSP      294.05\n",
       "PC       259.52\n",
       "3DS      259.00\n",
       "XB       257.74\n",
       "GB       255.46\n",
       "NES      251.05\n",
       "N64      218.68\n",
       "SNES     200.04\n",
       "GC       198.93\n",
       "XOne     159.32\n",
       "2600      96.98\n",
       "WiiU      82.19\n",
       "PSV       54.07\n",
       "SAT       33.59\n",
       "GEN       30.77\n",
       "DC        15.95\n",
       "SCD        1.86\n",
       "NG         1.44\n",
       "WS         1.42\n",
       "TG16       0.16\n",
       "3DO        0.10\n",
       "GG         0.04\n",
       "PCFX       0.03\n",
       "Name: total_sales, dtype: float64"
      ]
     },
     "execution_count": 14,
     "metadata": {},
     "output_type": "execute_result"
    },
    {
     "data": {
      "image/png": "[encoded data removed]",
      "text/plain": [
       "<Figure size 1440x1440 with 1 Axes>"
      ]
     },
     "metadata": {
      "needs_background": "light"
     },
     "output_type": "display_data"
    }
   ],
   "source": [
    "data.groupby(by='platform').sum()['total_sales'].sort_values().plot(kind='barh',figsize=(20,20));\n",
    "data.groupby(by='platform').sum()['total_sales'].sort_values(ascending=False)"
   ]
  },
  {
   "cell_type": "markdown",
   "metadata": {},
   "source": [
    "Для анализа возьмем топ-5 по суммарным продажам платформ."
   ]
  },
  {
   "cell_type": "code",
   "execution_count": 15,
   "metadata": {},
   "outputs": [
    {
     "data": {
      "image/png": "[encoded data removed]",
      "text/plain": [
       "<Figure size 432x288 with 1 Axes>"
      ]
     },
     "metadata": {
      "needs_background": "light"
     },
     "output_type": "display_data"
    }
   ],
   "source": [
    "data[data['platform']=='PS2'].groupby(by='year_of_release')['total_sales'].sum().plot()\n",
    "data[data['platform']=='X360'].groupby(by='year_of_release')['total_sales'].sum().plot()\n",
    "data[data['platform']=='PS3'].groupby(by='year_of_release')['total_sales'].sum().plot()\n",
    "data[data['platform']=='Wii'].groupby(by='year_of_release')['total_sales'].sum().plot()\n",
    "data[data['platform']=='DC'].groupby(by='year_of_release')['total_sales'].sum().plot()\n",
    "plt.legend(['PS2','X360',\"PS3\",\"Wii\",'DC'])\n",
    "plt.rcParams[\"figure.figsize\"] = [10, 10]"
   ]
  },
  {
   "cell_type": "markdown",
   "metadata": {},
   "source": [
    "Характерный срок эксплуатации платформы(консоли) 10 лет - после она устаревает и выпуск игр на ней прекращаеться."
   ]
  },
  {
   "cell_type": "markdown",
   "metadata": {},
   "source": [
    "Если в среднем платформа устаревает через 10 лет, то для прогноза продаж на 2017 год необходимо взять 3 последних года, на платформы Х360 и PS3 снижаться темпы производства игр, следовательно уже производяться новые платформы и контент для них."
   ]
  },
  {
   "cell_type": "code",
   "execution_count": 16,
   "metadata": {},
   "outputs": [
    {
     "data": {
      "image/png": "[encoded data removed]",
      "text/plain": [
       "<Figure size 720x720 with 1 Axes>"
      ]
     },
     "metadata": {
      "needs_background": "light"
     },
     "output_type": "display_data"
    }
   ],
   "source": [
    "data_after_2013 = data[data['year_of_release'] > 2013]\n",
    "legends = []\n",
    "for i in data_after_2013['platform'].unique():\n",
    "    data_after_2013[data_after_2013['platform']==i].groupby(by='year_of_release')['total_sales'].sum().plot()\n",
    "    legends.append(i)\n",
    "\n",
    "plt.legend(legends)\n",
    "plt.rcParams[\"figure.figsize\"] = [10, 10]"
   ]
  },
  {
   "cell_type": "markdown",
   "metadata": {},
   "source": [
    "Обьем продаж падает, скорее всего это связано с анонсами новых консолей или застоем на игровом рынке. <br>\n",
    "По итогу, на конец 2016 года по продажам лидируют: <br>\n",
    "- PS4 <br>\n",
    "- XOne <br>\n",
    "- 3DS <br>"
   ]
  },
  {
   "cell_type": "code",
   "execution_count": 17,
   "metadata": {},
   "outputs": [
    {
     "data": {
      "text/html": [
       "<div>\n",
       "<style scoped>\n",
       "    .dataframe tbody tr th:only-of-type {\n",
       "        vertical-align: middle;\n",
       "    }\n",
       "\n",
       "    .dataframe tbody tr th {\n",
       "        vertical-align: top;\n",
       "    }\n",
       "\n",
       "    .dataframe thead th {\n",
       "        text-align: right;\n",
       "    }\n",
       "</style>\n",
       "<table border=\"1\" class=\"dataframe\">\n",
       "  <thead>\n",
       "    <tr style=\"text-align: right;\">\n",
       "      <th></th>\n",
       "      <th>count</th>\n",
       "      <th>mean</th>\n",
       "      <th>std</th>\n",
       "      <th>min</th>\n",
       "      <th>25%</th>\n",
       "      <th>50%</th>\n",
       "      <th>75%</th>\n",
       "      <th>max</th>\n",
       "    </tr>\n",
       "    <tr>\n",
       "      <th>platform</th>\n",
       "      <th></th>\n",
       "      <th></th>\n",
       "      <th></th>\n",
       "      <th></th>\n",
       "      <th></th>\n",
       "      <th></th>\n",
       "      <th></th>\n",
       "      <th></th>\n",
       "    </tr>\n",
       "  </thead>\n",
       "  <tbody>\n",
       "    <tr>\n",
       "      <th>3DS</th>\n",
       "      <td>212.0</td>\n",
       "      <td>0.408868</td>\n",
       "      <td>1.188368</td>\n",
       "      <td>0.01</td>\n",
       "      <td>0.0300</td>\n",
       "      <td>0.090</td>\n",
       "      <td>0.2500</td>\n",
       "      <td>11.68</td>\n",
       "    </tr>\n",
       "    <tr>\n",
       "      <th>PC</th>\n",
       "      <td>151.0</td>\n",
       "      <td>0.179139</td>\n",
       "      <td>0.329359</td>\n",
       "      <td>0.01</td>\n",
       "      <td>0.0200</td>\n",
       "      <td>0.060</td>\n",
       "      <td>0.2000</td>\n",
       "      <td>3.05</td>\n",
       "    </tr>\n",
       "    <tr>\n",
       "      <th>PS3</th>\n",
       "      <td>219.0</td>\n",
       "      <td>0.311324</td>\n",
       "      <td>0.633059</td>\n",
       "      <td>0.01</td>\n",
       "      <td>0.0400</td>\n",
       "      <td>0.110</td>\n",
       "      <td>0.3250</td>\n",
       "      <td>5.27</td>\n",
       "    </tr>\n",
       "    <tr>\n",
       "      <th>PS4</th>\n",
       "      <td>376.0</td>\n",
       "      <td>0.766356</td>\n",
       "      <td>1.614969</td>\n",
       "      <td>0.01</td>\n",
       "      <td>0.0575</td>\n",
       "      <td>0.185</td>\n",
       "      <td>0.6900</td>\n",
       "      <td>14.63</td>\n",
       "    </tr>\n",
       "    <tr>\n",
       "      <th>PSP</th>\n",
       "      <td>13.0</td>\n",
       "      <td>0.027692</td>\n",
       "      <td>0.027735</td>\n",
       "      <td>0.01</td>\n",
       "      <td>0.0100</td>\n",
       "      <td>0.020</td>\n",
       "      <td>0.0200</td>\n",
       "      <td>0.09</td>\n",
       "    </tr>\n",
       "    <tr>\n",
       "      <th>PSV</th>\n",
       "      <td>295.0</td>\n",
       "      <td>0.075932</td>\n",
       "      <td>0.141591</td>\n",
       "      <td>0.01</td>\n",
       "      <td>0.0200</td>\n",
       "      <td>0.040</td>\n",
       "      <td>0.0900</td>\n",
       "      <td>1.96</td>\n",
       "    </tr>\n",
       "    <tr>\n",
       "      <th>Wii</th>\n",
       "      <td>11.0</td>\n",
       "      <td>0.460909</td>\n",
       "      <td>0.625451</td>\n",
       "      <td>0.01</td>\n",
       "      <td>0.0350</td>\n",
       "      <td>0.180</td>\n",
       "      <td>0.7550</td>\n",
       "      <td>2.01</td>\n",
       "    </tr>\n",
       "    <tr>\n",
       "      <th>WiiU</th>\n",
       "      <td>73.0</td>\n",
       "      <td>0.588767</td>\n",
       "      <td>1.161467</td>\n",
       "      <td>0.01</td>\n",
       "      <td>0.0500</td>\n",
       "      <td>0.190</td>\n",
       "      <td>0.5700</td>\n",
       "      <td>7.09</td>\n",
       "    </tr>\n",
       "    <tr>\n",
       "      <th>X360</th>\n",
       "      <td>111.0</td>\n",
       "      <td>0.434414</td>\n",
       "      <td>0.628967</td>\n",
       "      <td>0.01</td>\n",
       "      <td>0.0700</td>\n",
       "      <td>0.180</td>\n",
       "      <td>0.5050</td>\n",
       "      <td>4.28</td>\n",
       "    </tr>\n",
       "    <tr>\n",
       "      <th>XOne</th>\n",
       "      <td>228.0</td>\n",
       "      <td>0.615614</td>\n",
       "      <td>1.046513</td>\n",
       "      <td>0.01</td>\n",
       "      <td>0.0500</td>\n",
       "      <td>0.205</td>\n",
       "      <td>0.6325</td>\n",
       "      <td>7.39</td>\n",
       "    </tr>\n",
       "  </tbody>\n",
       "</table>\n",
       "</div>"
      ],
      "text/plain": [
       "          count      mean       std   min     25%    50%     75%    max\n",
       "platform                                                               \n",
       "3DS       212.0  0.408868  1.188368  0.01  0.0300  0.090  0.2500  11.68\n",
       "PC        151.0  0.179139  0.329359  0.01  0.0200  0.060  0.2000   3.05\n",
       "PS3       219.0  0.311324  0.633059  0.01  0.0400  0.110  0.3250   5.27\n",
       "PS4       376.0  0.766356  1.614969  0.01  0.0575  0.185  0.6900  14.63\n",
       "PSP        13.0  0.027692  0.027735  0.01  0.0100  0.020  0.0200   0.09\n",
       "PSV       295.0  0.075932  0.141591  0.01  0.0200  0.040  0.0900   1.96\n",
       "Wii        11.0  0.460909  0.625451  0.01  0.0350  0.180  0.7550   2.01\n",
       "WiiU       73.0  0.588767  1.161467  0.01  0.0500  0.190  0.5700   7.09\n",
       "X360      111.0  0.434414  0.628967  0.01  0.0700  0.180  0.5050   4.28\n",
       "XOne      228.0  0.615614  1.046513  0.01  0.0500  0.205  0.6325   7.39"
      ]
     },
     "execution_count": 17,
     "metadata": {},
     "output_type": "execute_result"
    }
   ],
   "source": [
    "data_after_2013.groupby('platform')['total_sales'].describe()"
   ]
  },
  {
   "cell_type": "code",
   "execution_count": 18,
   "metadata": {
    "scrolled": false
   },
   "outputs": [
    {
     "data": {
      "text/plain": [
       "<AxesSubplot:title={'center':'total_sales'}, xlabel='platform'>"
      ]
     },
     "execution_count": 18,
     "metadata": {},
     "output_type": "execute_result"
    },
    {
     "data": {
      "image/png": "[encoded data removed]",
      "text/plain": [
       "<Figure size 1440x1440 with 1 Axes>"
      ]
     },
     "metadata": {
      "needs_background": "light"
     },
     "output_type": "display_data"
    }
   ],
   "source": [
    "data_after_2013.boxplot(column='total_sales',by='platform',figsize=(20,20))"
   ]
  },
  {
   "cell_type": "markdown",
   "metadata": {},
   "source": [
    "На графике выше не видны медианы и 75% квантили, дадим отдельную диаграмму на которой они видны более четко."
   ]
  },
  {
   "cell_type": "code",
   "execution_count": 19,
   "metadata": {},
   "outputs": [
    {
     "data": {
      "text/plain": [
       "(0.0, 2.0)"
      ]
     },
     "execution_count": 19,
     "metadata": {},
     "output_type": "execute_result"
    },
    {
     "data": {
      "image/png": "[encoded data removed]",
      "text/plain": [
       "<Figure size 1440x1440 with 1 Axes>"
      ]
     },
     "metadata": {
      "needs_background": "light"
     },
     "output_type": "display_data"
    }
   ],
   "source": [
    "data_after_2013.boxplot(column='total_sales',by='platform',figsize=(20,20))\n",
    "plt.ylim(0,2)"
   ]
  },
  {
   "cell_type": "markdown",
   "metadata": {},
   "source": [
    "**Вывод**\n",
    "- Наибольшие медианные продажи у платформ XOne, WiiU и PS4.\n",
    "- Максимальные продажи приходяться на PS4 и WiiU.\n",
    "- Низкие продажи на PC обуславливаються приспособленностью консолей к играм, PC все же универсальный инструмент,а не приставка.\n",
    "- На всех платформах имеються выбросы, возможно это игры поставляемые в комплекте к консолям или бесплатные раздачи."
   ]
  },
  {
   "cell_type": "markdown",
   "metadata": {},
   "source": [
    "Для анализа продаж внутри одной платформы возьмем PS4."
   ]
  },
  {
   "cell_type": "code",
   "execution_count": 20,
   "metadata": {
    "scrolled": false
   },
   "outputs": [
    {
     "data": {
      "text/plain": [
       "<AxesSubplot:xlabel='user_score', ylabel='total_sales'>"
      ]
     },
     "execution_count": 20,
     "metadata": {},
     "output_type": "execute_result"
    },
    {
     "data": {
      "image/png": "[encoded data removed]",
      "text/plain": [
       "<Figure size 720x720 with 1 Axes>"
      ]
     },
     "metadata": {
      "needs_background": "light"
     },
     "output_type": "display_data"
    },
    {
     "data": {
      "image/png": "[encoded data removed]",
      "text/plain": [
       "<Figure size 720x720 with 1 Axes>"
      ]
     },
     "metadata": {
      "needs_background": "light"
     },
     "output_type": "display_data"
    }
   ],
   "source": [
    "data_after_2013[data_after_2013['platform']=='PS4'].plot.scatter(x = 'critic_score',y= 'total_sales')\n",
    "data_after_2013[data_after_2013['platform']=='PS4'].plot.scatter(x = 'user_score',y= 'total_sales')"
   ]
  },
  {
   "cell_type": "code",
   "execution_count": 21,
   "metadata": {},
   "outputs": [
    {
     "name": "stdout",
     "output_type": "stream",
     "text": [
      "Матрица корреляций\n"
     ]
    },
    {
     "data": {
      "text/html": [
       "<div>\n",
       "<style scoped>\n",
       "    .dataframe tbody tr th:only-of-type {\n",
       "        vertical-align: middle;\n",
       "    }\n",
       "\n",
       "    .dataframe tbody tr th {\n",
       "        vertical-align: top;\n",
       "    }\n",
       "\n",
       "    .dataframe thead th {\n",
       "        text-align: right;\n",
       "    }\n",
       "</style>\n",
       "<table border=\"1\" class=\"dataframe\">\n",
       "  <thead>\n",
       "    <tr style=\"text-align: right;\">\n",
       "      <th></th>\n",
       "      <th>total_sales</th>\n",
       "      <th>critic_score</th>\n",
       "      <th>user_score</th>\n",
       "    </tr>\n",
       "  </thead>\n",
       "  <tbody>\n",
       "    <tr>\n",
       "      <th>total_sales</th>\n",
       "      <td>1.000000</td>\n",
       "      <td>0.402661</td>\n",
       "      <td>-0.040132</td>\n",
       "    </tr>\n",
       "    <tr>\n",
       "      <th>critic_score</th>\n",
       "      <td>0.402661</td>\n",
       "      <td>1.000000</td>\n",
       "      <td>0.546434</td>\n",
       "    </tr>\n",
       "    <tr>\n",
       "      <th>user_score</th>\n",
       "      <td>-0.040132</td>\n",
       "      <td>0.546434</td>\n",
       "      <td>1.000000</td>\n",
       "    </tr>\n",
       "  </tbody>\n",
       "</table>\n",
       "</div>"
      ],
      "text/plain": [
       "              total_sales  critic_score  user_score\n",
       "total_sales      1.000000      0.402661   -0.040132\n",
       "critic_score     0.402661      1.000000    0.546434\n",
       "user_score      -0.040132      0.546434    1.000000"
      ]
     },
     "execution_count": 21,
     "metadata": {},
     "output_type": "execute_result"
    }
   ],
   "source": [
    "print(\"Матрица корреляций\")\n",
    "data_after_2013[data_after_2013.platform == \"PS4\"][['total_sales', 'critic_score', 'user_score']].corr()"
   ]
  },
  {
   "cell_type": "markdown",
   "metadata": {},
   "source": [
    "**Вывод** <br>\n",
    "Кореляция между *рейтингом критиков и продажами на PS4* прослеживаеться - чем выше рейтинг, тем выше продажи. <br>\n",
    "Кореляция же между *рейтингом игроков и продажами на PS4* не прослеживаеться.<br>"
   ]
  },
  {
   "cell_type": "code",
   "execution_count": 22,
   "metadata": {},
   "outputs": [
    {
     "name": "stdout",
     "output_type": "stream",
     "text": [
      "0\n",
      "1\n",
      "2\n",
      "3\n",
      "4\n"
     ]
    }
   ],
   "source": [
    "platfoms = ['PS4','3DS','XOne','WiiU','PS3']\n",
    "for i in  platfoms:\n",
    "    print(platfoms.index(i))"
   ]
  },
  {
   "cell_type": "code",
   "execution_count": 23,
   "metadata": {
    "scrolled": false
   },
   "outputs": [
    {
     "name": "stdout",
     "output_type": "stream",
     "text": [
      "Матрица кореляций для PS4\n",
      "              total_sales  critic_score  user_score\n",
      "total_sales      1.000000      0.402661   -0.040132\n",
      "critic_score     0.402661      1.000000    0.546434\n",
      "user_score      -0.040132      0.546434    1.000000\n"
     ]
    },
    {
     "data": {
      "image/png": "[encoded data removed]",
      "text/plain": [
       "<Figure size 720x720 with 1 Axes>"
      ]
     },
     "metadata": {
      "needs_background": "light"
     },
     "output_type": "display_data"
    },
    {
     "data": {
      "image/png": "[encoded data removed]",
      "text/plain": [
       "<Figure size 720x720 with 1 Axes>"
      ]
     },
     "metadata": {
      "needs_background": "light"
     },
     "output_type": "display_data"
    },
    {
     "name": "stdout",
     "output_type": "stream",
     "text": [
      "Матрица кореляций для 3DS\n",
      "              total_sales  critic_score  user_score\n",
      "total_sales      1.000000      0.314117    0.215193\n",
      "critic_score     0.314117      1.000000    0.862485\n",
      "user_score       0.215193      0.862485    1.000000\n"
     ]
    },
    {
     "data": {
      "image/png": "[encoded data removed]",
      "text/plain": [
       "<Figure size 720x720 with 1 Axes>"
      ]
     },
     "metadata": {
      "needs_background": "light"
     },
     "output_type": "display_data"
    },
    {
     "data": {
      "image/png": "[encoded data removed]",
      "text/plain": [
       "<Figure size 720x720 with 1 Axes>"
      ]
     },
     "metadata": {
      "needs_background": "light"
     },
     "output_type": "display_data"
    },
    {
     "name": "stdout",
     "output_type": "stream",
     "text": [
      "Матрица кореляций для XOne\n",
      "              total_sales  critic_score  user_score\n",
      "total_sales      1.000000      0.428677   -0.070384\n",
      "critic_score     0.428677      1.000000    0.440977\n",
      "user_score      -0.070384      0.440977    1.000000\n"
     ]
    },
    {
     "data": {
      "image/png": "[encoded data removed]",
      "text/plain": [
       "<Figure size 720x720 with 1 Axes>"
      ]
     },
     "metadata": {
      "needs_background": "light"
     },
     "output_type": "display_data"
    },
    {
     "data": {
      "image/png": "[encoded data removed]",
      "text/plain": [
       "<Figure size 720x720 with 1 Axes>"
      ]
     },
     "metadata": {
      "needs_background": "light"
     },
     "output_type": "display_data"
    },
    {
     "name": "stdout",
     "output_type": "stream",
     "text": [
      "Матрица кореляций для WiiU\n",
      "              total_sales  critic_score  user_score\n",
      "total_sales      1.000000      0.370201    0.407926\n",
      "critic_score     0.370201      1.000000    0.763536\n",
      "user_score       0.407926      0.763536    1.000000\n"
     ]
    },
    {
     "data": {
      "image/png": "[encoded data removed]",
      "text/plain": [
       "<Figure size 720x720 with 1 Axes>"
      ]
     },
     "metadata": {
      "needs_background": "light"
     },
     "output_type": "display_data"
    },
    {
     "data": {
      "image/png": "[encoded data removed]",
      "text/plain": [
       "<Figure size 720x720 with 1 Axes>"
      ]
     },
     "metadata": {
      "needs_background": "light"
     },
     "output_type": "display_data"
    },
    {
     "name": "stdout",
     "output_type": "stream",
     "text": [
      "Матрица кореляций для PS3\n",
      "              total_sales  critic_score  user_score\n",
      "total_sales      1.000000      0.446575   -0.166761\n",
      "critic_score     0.446575      1.000000    0.693445\n",
      "user_score      -0.166761      0.693445    1.000000\n"
     ]
    },
    {
     "data": {
      "image/png": "[encoded data removed]",
      "text/plain": [
       "<Figure size 720x720 with 1 Axes>"
      ]
     },
     "metadata": {
      "needs_background": "light"
     },
     "output_type": "display_data"
    },
    {
     "data": {
      "image/png": "[encoded data removed]",
      "text/plain": [
       "<Figure size 720x720 with 1 Axes>"
      ]
     },
     "metadata": {
      "needs_background": "light"
     },
     "output_type": "display_data"
    }
   ],
   "source": [
    "platfoms = ['PS4','3DS','XOne','WiiU','PS3']\n",
    "for i in  platfoms:\n",
    "    print('Матрица кореляций для',i)\n",
    "    print(data_after_2013[data_after_2013.platform == i][['total_sales', 'critic_score', 'user_score']].corr())\n",
    "    #plt.subplot(platfoms.index(i)+1,2,1)\n",
    "    data_after_2013[data_after_2013['platform']==i].plot(kind='scatter',x = 'critic_score',y= 'total_sales')\n",
    "    plt.title('critic_score on'+' '+i+' '+'influence total_sales')\n",
    "    #plt.subplot(platfoms.index(i)+1,2,2)\n",
    "    data_after_2013[data_after_2013['platform']==i].plot(kind='scatter',x = 'user_score',y= 'total_sales')\n",
    "    plt.title('user_score on'+' '+i+' '+'influence total_sales')\n",
    "    plt.show()"
   ]
  },
  {
   "cell_type": "code",
   "execution_count": 42,
   "metadata": {},
   "outputs": [
    {
     "data": {
      "image/png": "[encoded data removed]",
      "text/plain": [
       "<Figure size 1080x360 with 2 Axes>"
      ]
     },
     "metadata": {
      "needs_background": "light"
     },
     "output_type": "display_data"
    },
    {
     "data": {
      "image/png": "[encoded data removed]",
      "text/plain": [
       "<Figure size 1080x360 with 2 Axes>"
      ]
     },
     "metadata": {
      "needs_background": "light"
     },
     "output_type": "display_data"
    },
    {
     "data": {
      "image/png": "[encoded data removed]",
      "text/plain": [
       "<Figure size 1080x360 with 2 Axes>"
      ]
     },
     "metadata": {
      "needs_background": "light"
     },
     "output_type": "display_data"
    },
    {
     "data": {
      "image/png": "[encoded data removed]",
      "text/plain": [
       "<Figure size 1080x360 with 2 Axes>"
      ]
     },
     "metadata": {
      "needs_background": "light"
     },
     "output_type": "display_data"
    },
    {
     "data": {
      "image/png": "[encoded data removed]",
      "text/plain": [
       "<Figure size 1080x360 with 2 Axes>"
      ]
     },
     "metadata": {
      "needs_background": "light"
     },
     "output_type": "display_data"
    }
   ],
   "source": [
    "# Комментарий ревьюера 3\n",
    "df = data_after_2013.copy()\n",
    "def o_mazurenko(name_of_platform):\n",
    "    platform = df[df['platform']==name_of_platform]\n",
    "    fig, ax = plt.subplots(1 ,2, figsize=(15,5))\n",
    "    sns.scatterplot(x='user_score', y='total_sales', data=platform, ax=ax[0])\n",
    "    sns.scatterplot(x='critic_score', y='total_sales', data=platform, ax=ax[1])\n",
    "    fig.suptitle(name_of_platform, fontsize=15)\n",
    "    ax[0].set(xlabel='Оценка пользователей')\n",
    "    ax[1].set(xlabel='Оценка критиков')\n",
    "    ax[0].set(ylabel='Количество продаж')\n",
    "    ax[1].set(ylabel='Количество продаж')\n",
    "    plt.show()\n",
    "\n",
    "for platform in ['PS4','3DS','XOne','WiiU','PS3']:\n",
    "    o_mazurenko(platform)"
   ]
  },
  {
   "cell_type": "markdown",
   "metadata": {},
   "source": [
    "**Вывод** <br>\n",
    "Для платформ PS3 и XOne ситуация схожая с PS4 - кореляция между user_score и total_sales отсудствует, а critic_score и total_sale присудствует. <br>\n",
    "С платформами WiiU и 3DS ситуация обстоит иначе - critic_score и user_score коррелируют с total_sales"
   ]
  },
  {
   "cell_type": "code",
   "execution_count": 24,
   "metadata": {},
   "outputs": [
    {
     "data": {
      "text/plain": [
       "(0.0, 2.0)"
      ]
     },
     "execution_count": 24,
     "metadata": {},
     "output_type": "execute_result"
    },
    {
     "data": {
      "image/png": "[encoded data removed]",
      "text/plain": [
       "<Figure size 720x720 with 1 Axes>"
      ]
     },
     "metadata": {
      "needs_background": "light"
     },
     "output_type": "display_data"
    },
    {
     "data": {
      "image/png": "[encoded data removed]",
      "text/plain": [
       "<Figure size 1440x1440 with 1 Axes>"
      ]
     },
     "metadata": {
      "needs_background": "light"
     },
     "output_type": "display_data"
    }
   ],
   "source": [
    "data_after_2013.groupby('genre')['total_sales'].sum().sort_values().plot(kind='barh')\n",
    "data_after_2013.boxplot(column='total_sales',by='genre',figsize=(20,20))\n",
    "plt.ylim(0,2)"
   ]
  },
  {
   "cell_type": "code",
   "execution_count": 25,
   "metadata": {},
   "outputs": [
    {
     "data": {
      "text/html": [
       "<div>\n",
       "<style scoped>\n",
       "    .dataframe tbody tr th:only-of-type {\n",
       "        vertical-align: middle;\n",
       "    }\n",
       "\n",
       "    .dataframe tbody tr th {\n",
       "        vertical-align: top;\n",
       "    }\n",
       "\n",
       "    .dataframe thead th {\n",
       "        text-align: right;\n",
       "    }\n",
       "</style>\n",
       "<table border=\"1\" class=\"dataframe\">\n",
       "  <thead>\n",
       "    <tr style=\"text-align: right;\">\n",
       "      <th></th>\n",
       "      <th>count</th>\n",
       "      <th>mean</th>\n",
       "      <th>std</th>\n",
       "      <th>min</th>\n",
       "      <th>25%</th>\n",
       "      <th>50%</th>\n",
       "      <th>75%</th>\n",
       "      <th>max</th>\n",
       "    </tr>\n",
       "    <tr>\n",
       "      <th>genre</th>\n",
       "      <th></th>\n",
       "      <th></th>\n",
       "      <th></th>\n",
       "      <th></th>\n",
       "      <th></th>\n",
       "      <th></th>\n",
       "      <th></th>\n",
       "      <th></th>\n",
       "    </tr>\n",
       "  </thead>\n",
       "  <tbody>\n",
       "    <tr>\n",
       "      <th>Action</th>\n",
       "      <td>619.0</td>\n",
       "      <td>0.322068</td>\n",
       "      <td>0.798181</td>\n",
       "      <td>0.01</td>\n",
       "      <td>0.0300</td>\n",
       "      <td>0.090</td>\n",
       "      <td>0.2800</td>\n",
       "      <td>12.62</td>\n",
       "    </tr>\n",
       "    <tr>\n",
       "      <th>Adventure</th>\n",
       "      <td>185.0</td>\n",
       "      <td>0.094865</td>\n",
       "      <td>0.203147</td>\n",
       "      <td>0.01</td>\n",
       "      <td>0.0200</td>\n",
       "      <td>0.030</td>\n",
       "      <td>0.0800</td>\n",
       "      <td>1.66</td>\n",
       "    </tr>\n",
       "    <tr>\n",
       "      <th>Fighting</th>\n",
       "      <td>60.0</td>\n",
       "      <td>0.470333</td>\n",
       "      <td>1.188053</td>\n",
       "      <td>0.01</td>\n",
       "      <td>0.0600</td>\n",
       "      <td>0.125</td>\n",
       "      <td>0.3200</td>\n",
       "      <td>7.55</td>\n",
       "    </tr>\n",
       "    <tr>\n",
       "      <th>Misc</th>\n",
       "      <td>113.0</td>\n",
       "      <td>0.332301</td>\n",
       "      <td>0.736999</td>\n",
       "      <td>0.01</td>\n",
       "      <td>0.0300</td>\n",
       "      <td>0.090</td>\n",
       "      <td>0.3200</td>\n",
       "      <td>5.27</td>\n",
       "    </tr>\n",
       "    <tr>\n",
       "      <th>Platform</th>\n",
       "      <td>38.0</td>\n",
       "      <td>0.476053</td>\n",
       "      <td>0.722561</td>\n",
       "      <td>0.01</td>\n",
       "      <td>0.0625</td>\n",
       "      <td>0.140</td>\n",
       "      <td>0.4675</td>\n",
       "      <td>3.21</td>\n",
       "    </tr>\n",
       "    <tr>\n",
       "      <th>Puzzle</th>\n",
       "      <td>14.0</td>\n",
       "      <td>0.157857</td>\n",
       "      <td>0.320629</td>\n",
       "      <td>0.01</td>\n",
       "      <td>0.0200</td>\n",
       "      <td>0.045</td>\n",
       "      <td>0.1000</td>\n",
       "      <td>1.19</td>\n",
       "    </tr>\n",
       "    <tr>\n",
       "      <th>Racing</th>\n",
       "      <td>69.0</td>\n",
       "      <td>0.398841</td>\n",
       "      <td>0.963716</td>\n",
       "      <td>0.01</td>\n",
       "      <td>0.0300</td>\n",
       "      <td>0.090</td>\n",
       "      <td>0.2500</td>\n",
       "      <td>7.09</td>\n",
       "    </tr>\n",
       "    <tr>\n",
       "      <th>Role-Playing</th>\n",
       "      <td>221.0</td>\n",
       "      <td>0.459005</td>\n",
       "      <td>1.177284</td>\n",
       "      <td>0.01</td>\n",
       "      <td>0.0500</td>\n",
       "      <td>0.110</td>\n",
       "      <td>0.3600</td>\n",
       "      <td>11.68</td>\n",
       "    </tr>\n",
       "    <tr>\n",
       "      <th>Shooter</th>\n",
       "      <td>128.0</td>\n",
       "      <td>1.335469</td>\n",
       "      <td>2.050567</td>\n",
       "      <td>0.01</td>\n",
       "      <td>0.1725</td>\n",
       "      <td>0.515</td>\n",
       "      <td>1.6175</td>\n",
       "      <td>14.63</td>\n",
       "    </tr>\n",
       "    <tr>\n",
       "      <th>Simulation</th>\n",
       "      <td>44.0</td>\n",
       "      <td>0.298409</td>\n",
       "      <td>0.646925</td>\n",
       "      <td>0.01</td>\n",
       "      <td>0.0200</td>\n",
       "      <td>0.100</td>\n",
       "      <td>0.3275</td>\n",
       "      <td>3.05</td>\n",
       "    </tr>\n",
       "    <tr>\n",
       "      <th>Sports</th>\n",
       "      <td>161.0</td>\n",
       "      <td>0.680000</td>\n",
       "      <td>1.239736</td>\n",
       "      <td>0.01</td>\n",
       "      <td>0.0600</td>\n",
       "      <td>0.180</td>\n",
       "      <td>0.6400</td>\n",
       "      <td>8.58</td>\n",
       "    </tr>\n",
       "    <tr>\n",
       "      <th>Strategy</th>\n",
       "      <td>37.0</td>\n",
       "      <td>0.107027</td>\n",
       "      <td>0.118412</td>\n",
       "      <td>0.01</td>\n",
       "      <td>0.0300</td>\n",
       "      <td>0.060</td>\n",
       "      <td>0.1400</td>\n",
       "      <td>0.52</td>\n",
       "    </tr>\n",
       "  </tbody>\n",
       "</table>\n",
       "</div>"
      ],
      "text/plain": [
       "              count      mean       std   min     25%    50%     75%    max\n",
       "genre                                                                      \n",
       "Action        619.0  0.322068  0.798181  0.01  0.0300  0.090  0.2800  12.62\n",
       "Adventure     185.0  0.094865  0.203147  0.01  0.0200  0.030  0.0800   1.66\n",
       "Fighting       60.0  0.470333  1.188053  0.01  0.0600  0.125  0.3200   7.55\n",
       "Misc          113.0  0.332301  0.736999  0.01  0.0300  0.090  0.3200   5.27\n",
       "Platform       38.0  0.476053  0.722561  0.01  0.0625  0.140  0.4675   3.21\n",
       "Puzzle         14.0  0.157857  0.320629  0.01  0.0200  0.045  0.1000   1.19\n",
       "Racing         69.0  0.398841  0.963716  0.01  0.0300  0.090  0.2500   7.09\n",
       "Role-Playing  221.0  0.459005  1.177284  0.01  0.0500  0.110  0.3600  11.68\n",
       "Shooter       128.0  1.335469  2.050567  0.01  0.1725  0.515  1.6175  14.63\n",
       "Simulation     44.0  0.298409  0.646925  0.01  0.0200  0.100  0.3275   3.05\n",
       "Sports        161.0  0.680000  1.239736  0.01  0.0600  0.180  0.6400   8.58\n",
       "Strategy       37.0  0.107027  0.118412  0.01  0.0300  0.060  0.1400   0.52"
      ]
     },
     "execution_count": 25,
     "metadata": {},
     "output_type": "execute_result"
    }
   ],
   "source": [
    "data_after_2013.groupby('genre')['total_sales'].describe()"
   ]
  },
  {
   "cell_type": "markdown",
   "metadata": {},
   "source": [
    "**Вывод** <br>\n",
    "Популярнее всего проэкты с жанром - **шутер**, далее за ним **спорт**, они лучше всего продаються. <br>\n",
    "Самые не популярные жанры - **приключение** и **пазлы**.<br>"
   ]
  },
  {
   "cell_type": "markdown",
   "metadata": {},
   "source": [
    "## Портрет пользователя региона"
   ]
  },
  {
   "cell_type": "markdown",
   "metadata": {},
   "source": [
    "### Cамые популярные платформы"
   ]
  },
  {
   "cell_type": "markdown",
   "metadata": {},
   "source": [
    "**Общая статистика**"
   ]
  },
  {
   "cell_type": "code",
   "execution_count": 26,
   "metadata": {},
   "outputs": [
    {
     "data": {
      "text/plain": [
       "<AxesSubplot:xlabel='platform'>"
      ]
     },
     "execution_count": 26,
     "metadata": {},
     "output_type": "execute_result"
    },
    {
     "data": {
      "image/png": "[encoded data removed]",
      "text/plain": [
       "<Figure size 720x720 with 1 Axes>"
      ]
     },
     "metadata": {
      "needs_background": "light"
     },
     "output_type": "display_data"
    }
   ],
   "source": [
    "data_after_2013.groupby(by='platform').sum()[['na_sales','eu_sales','jp_sales']].plot.bar()"
   ]
  },
  {
   "cell_type": "code",
   "execution_count": 27,
   "metadata": {},
   "outputs": [
    {
     "name": "stdout",
     "output_type": "stream",
     "text": [
      "Предпочтения платформы у пользователей из разных регионов\n"
     ]
    },
    {
     "data": {
      "text/plain": [
       "<AxesSubplot:title={'center':'player_jp'}, ylabel='platform'>"
      ]
     },
     "execution_count": 27,
     "metadata": {},
     "output_type": "execute_result"
    },
    {
     "data": {
      "image/png": "[encoded data removed]",
      "text/plain": [
       "<Figure size 1440x360 with 3 Axes>"
      ]
     },
     "metadata": {
      "needs_background": "light"
     },
     "output_type": "display_data"
    }
   ],
   "source": [
    "print(\"Предпочтения платформы у пользователей из разных регионов\")\n",
    "plt.subplot (1, 3, 1)\n",
    "data_after_2013.groupby(by='platform').sum().sort_values('na_sales')['na_sales'].plot(kind='barh',title='player_na',figsize=(20,5))\n",
    "plt.subplot (1, 3, 2)\n",
    "data_after_2013.groupby(by='platform').sum().sort_values('eu_sales')['eu_sales'].plot(kind='barh',title='player_eu')\n",
    "plt.subplot (1, 3, 3)\n",
    "data_after_2013.groupby(by='platform').sum().sort_values('jp_sales')['jp_sales'].plot(kind='barh',title='player_jp')"
   ]
  },
  {
   "cell_type": "markdown",
   "metadata": {},
   "source": [
    "**Вывод** <br>\n",
    "Пользователи из Европы и Северной Америки предпочитают консоли PS4 и XOne, у геймеров из Японии в почете консоль 3DS. <br>\n",
    "Японцы предпочитают портативность, Европейцы и Американцы - домашний гейминг."
   ]
  },
  {
   "cell_type": "markdown",
   "metadata": {},
   "source": [
    "### Самые популярные жанры в регионах"
   ]
  },
  {
   "cell_type": "markdown",
   "metadata": {},
   "source": [
    "**Общая статистика**"
   ]
  },
  {
   "cell_type": "code",
   "execution_count": 28,
   "metadata": {},
   "outputs": [
    {
     "data": {
      "text/plain": [
       "<AxesSubplot:xlabel='genre'>"
      ]
     },
     "execution_count": 28,
     "metadata": {},
     "output_type": "execute_result"
    },
    {
     "data": {
      "image/png": "[encoded data removed]",
      "text/plain": [
       "<Figure size 720x720 with 1 Axes>"
      ]
     },
     "metadata": {
      "needs_background": "light"
     },
     "output_type": "display_data"
    }
   ],
   "source": [
    "data_after_2013.groupby(by='genre').sum()[['na_sales','eu_sales','jp_sales']].plot.bar()"
   ]
  },
  {
   "cell_type": "code",
   "execution_count": 29,
   "metadata": {},
   "outputs": [
    {
     "data": {
      "text/plain": [
       "<AxesSubplot:title={'center':'player_jp'}, ylabel='genre'>"
      ]
     },
     "execution_count": 29,
     "metadata": {},
     "output_type": "execute_result"
    },
    {
     "data": {
      "image/png": "[encoded data removed]",
      "text/plain": [
       "<Figure size 1584x720 with 3 Axes>"
      ]
     },
     "metadata": {
      "needs_background": "light"
     },
     "output_type": "display_data"
    }
   ],
   "source": [
    "plt.subplot (1, 3, 1)\n",
    "data_after_2013.groupby(by='genre').sum().sort_values('na_sales')['na_sales'].plot(kind='barh',title='player_na',figsize=(22,10))\n",
    "plt.subplot (1, 3, 2)\n",
    "data_after_2013.groupby(by='genre').sum().sort_values('eu_sales')['eu_sales'].plot(kind='barh',title='player_eu')\n",
    "plt.subplot (1, 3, 3)\n",
    "data_after_2013.groupby(by='genre').sum().sort_values('jp_sales')['jp_sales'].plot(kind='barh',title='player_jp')"
   ]
  },
  {
   "cell_type": "code",
   "execution_count": 30,
   "metadata": {},
   "outputs": [
    {
     "name": "stdout",
     "output_type": "stream",
     "text": [
      "Топы жанров по регионам\n"
     ]
    },
    {
     "data": {
      "text/plain": [
       "<AxesSubplot:title={'center':'JP'}, ylabel='jp_sales'>"
      ]
     },
     "execution_count": 30,
     "metadata": {},
     "output_type": "execute_result"
    },
    {
     "data": {
      "image/png": "[encoded data removed]",
      "text/plain": [
       "<Figure size 1440x1440 with 3 Axes>"
      ]
     },
     "metadata": {},
     "output_type": "display_data"
    }
   ],
   "source": [
    "print(\"Топы жанров по регионам\")\n",
    "plt.subplot (1, 3, 1)\n",
    "data_after_2013.groupby(by='genre').sum().sort_values('na_sales')['na_sales'].plot(kind='pie', autopct='%1.0f%%',figsize=(20,20),title='NA')\n",
    "plt.subplot (1, 3, 2)\n",
    "data_after_2013.groupby(by='genre').sum().sort_values('eu_sales')['eu_sales'].plot(kind='pie', autopct='%1.0f%%',figsize=(20,20),title=\"EU\")\n",
    "plt.subplot (1, 3, 3)\n",
    "data_after_2013.groupby(by='genre').sum().sort_values('jp_sales')['jp_sales'].plot(kind='pie', autopct='%1.0f%%',figsize=(20,20),title=\"JP\")"
   ]
  },
  {
   "cell_type": "markdown",
   "metadata": {},
   "source": [
    "**Вывод** <br>\n",
    "В EU и NA очень схожи в предпочтениях - топ 4 жанров идентичен: экшен, шутер, спорт и гонки. <br>\n",
    "Пользователи из Японии же предпочитают РПГ и, с малым отрывом, экшен игры."
   ]
  },
  {
   "cell_type": "markdown",
   "metadata": {},
   "source": [
    "### Влияние ESRB рейтинг на продажи в регионах"
   ]
  },
  {
   "cell_type": "code",
   "execution_count": 31,
   "metadata": {},
   "outputs": [
    {
     "data": {
      "text/plain": [
       "<AxesSubplot:xlabel='rating'>"
      ]
     },
     "execution_count": 31,
     "metadata": {},
     "output_type": "execute_result"
    },
    {
     "data": {
      "image/png": "[encoded data removed]",
      "text/plain": [
       "<Figure size 720x720 with 1 Axes>"
      ]
     },
     "metadata": {
      "needs_background": "light"
     },
     "output_type": "display_data"
    }
   ],
   "source": [
    "data_after_2013.groupby(by='rating').sum()[['na_sales','eu_sales','jp_sales']].plot.bar()"
   ]
  },
  {
   "cell_type": "markdown",
   "metadata": {},
   "source": [
    "**Вывод** <br>\n",
    "В Северной Америке и в Европе картина практически одинаковая. Большая часть выручки получено с игр с рейтингом - \"Для всех\", а далее по \"взрослости\" игр.\n",
    "\n",
    "В Японии опять не так. Первое место такое же - \"Не определен\", скорее всего это связано с тем что сам по себе рейтнг ESRB принадлежит американской компании, следовательно не все японские игры проходят его."
   ]
  },
  {
   "cell_type": "code",
   "execution_count": 32,
   "metadata": {},
   "outputs": [
    {
     "name": "stdout",
     "output_type": "stream",
     "text": [
      "0 0.0\n"
     ]
    },
    {
     "data": {
      "text/plain": [
       "undefined    749\n",
       "T            271\n",
       "M            265\n",
       "E            219\n",
       "E10+         185\n",
       "Name: rating, dtype: int64"
      ]
     },
     "execution_count": 32,
     "metadata": {},
     "output_type": "execute_result"
    }
   ],
   "source": [
    "temp = data_after_2013.copy()\n",
    "print(temp.rating.isna().sum(), temp.rating.isna().sum()/len(temp))\n",
    "temp.rating.value_counts()"
   ]
  },
  {
   "cell_type": "markdown",
   "metadata": {},
   "source": [
    "## Проверка гипотиз"
   ]
  },
  {
   "cell_type": "markdown",
   "metadata": {},
   "source": [
    "**Гипотезы**\n",
    "\n",
    "- Средние пользовательские рейтинги платформ Xbox One и PC одинаковые\n",
    "- Средние пользовательские рейтинги жанров Action (англ. «действие», экшен-игры) и Sports (англ. «спортивные соревнования») разные. <br>\n",
    "\n",
    "Для проверки гипотиз пользуюсь t-критерием Стьюдента - выборки независимы между собой. <br>\n",
    "Пороговое значение alpha = 0.05<br>\n",
    "\n",
    "**Гипотеза № 1** <br>\n",
    "Средние пользовательские рейтинги платформ Xbox One и PC одинаковые <br>\n",
    "\n",
    "*H0* - нулевая гипотиза - Средние пользовательские рейтинги платформ Xbox One и PC одинаковые <br>\n",
    "*Н1* - альтернативная гипотиза - Средние пользовательские рейтинги платформ Xbox One и PC отличаються между собой <br>\n",
    "\n",
    "<br>\n"
   ]
  },
  {
   "cell_type": "code",
   "execution_count": 33,
   "metadata": {},
   "outputs": [],
   "source": [
    "s_1 = data_after_2013[data_after_2013['platform']=='XOne']['user_score'].dropna()\n",
    "s_2 = data_after_2013[data_after_2013['platform']=='PC']['user_score'].dropna()"
   ]
  },
  {
   "cell_type": "code",
   "execution_count": 34,
   "metadata": {},
   "outputs": [
    {
     "name": "stdout",
     "output_type": "stream",
     "text": [
      "0.014868430917663678\n"
     ]
    }
   ],
   "source": [
    "from scipy.stats import levene\n",
    "stat, p = levene(s_1,s_2)\n",
    "print(p)"
   ]
  },
  {
   "cell_type": "code",
   "execution_count": 35,
   "metadata": {},
   "outputs": [],
   "source": [
    "alpha = .05 #критический уровень статистической значимости\n",
    "           #если p-value окажеться меньше него - отвергаем гипотизу"
   ]
  },
  {
   "cell_type": "code",
   "execution_count": 36,
   "metadata": {},
   "outputs": [
    {
     "name": "stdout",
     "output_type": "stream",
     "text": [
      "p-значение: 0.10450507919348415\n",
      "Не получилось отвергнуть нулевую гипотизу\n"
     ]
    }
   ],
   "source": [
    "results_1 = st.ttest_ind(s_1,s_2,equal_var = True)\n",
    "print('p-значение:',results_1.pvalue)\n",
    "\n",
    "\n",
    "if (results_1.pvalue < alpha):\n",
    "    print(\"Отвергаем нулевую гипотизу\")\n",
    "else: \n",
    "    print(\"Не получилось отвергнуть нулевую гипотизу\")"
   ]
  },
  {
   "cell_type": "markdown",
   "metadata": {},
   "source": [
    "**Вывод**<br>\n",
    "\n",
    "Не получилось отвергнуть нулевую гипотизу: Средние пользовательские рейтинги платформ Xbox One и PC одинаковые <br>"
   ]
  },
  {
   "cell_type": "markdown",
   "metadata": {},
   "source": [
    "**Гипотеза № 2** <br>\n",
    "Средние пользовательские рейтинги жанров Action и Sports разные.<br>\n",
    "\n",
    "*H0* - нулевая гипотиза - Средние пользовательские рейтинги жанров Action и Sports одинаковые.<br>\n",
    "*Н1* - альтернативная гипотиза - Средние пользовательские рейтинги жанров Action и Sports разные.<br>\n",
    "\n",
    "\n",
    "<br>\n"
   ]
  },
  {
   "cell_type": "code",
   "execution_count": 37,
   "metadata": {},
   "outputs": [],
   "source": [
    "s_3 = data_after_2013[data_after_2013['genre']=='Action']['user_score'].dropna()\n",
    "s_4 = data_after_2013[data_after_2013['genre']=='Sports']['user_score'].dropna()"
   ]
  },
  {
   "cell_type": "code",
   "execution_count": 38,
   "metadata": {},
   "outputs": [
    {
     "name": "stdout",
     "output_type": "stream",
     "text": [
      "4.480161685830322e-06\n"
     ]
    }
   ],
   "source": [
    "from scipy.stats import levene\n",
    "stat, p = levene(s_3,s_4)\n",
    "print(p)"
   ]
  },
  {
   "cell_type": "code",
   "execution_count": 39,
   "metadata": {},
   "outputs": [],
   "source": [
    "alpha = .05 #критический уровень статистической значимости\n",
    "           #если p-value окажеться меньше него - отвергаем гипотизу"
   ]
  },
  {
   "cell_type": "code",
   "execution_count": 40,
   "metadata": {},
   "outputs": [
    {
     "name": "stdout",
     "output_type": "stream",
     "text": [
      "p-значение: 2.8711147985105864e-19\n",
      "Отвергаем нулевую гипотизу\n"
     ]
    }
   ],
   "source": [
    "results_2 = st.ttest_ind(s_3,s_4,equal_var = True)\n",
    "print('p-значение:',results_2.pvalue)\n",
    "\n",
    "\n",
    "if (results_2.pvalue < alpha):\n",
    "    print(\"Отвергаем нулевую гипотизу\")\n",
    "else: \n",
    "    print(\"Не получилось отвергнуть нулевую гипотизу\")"
   ]
  },
  {
   "cell_type": "markdown",
   "metadata": {},
   "source": [
    " **Вывод** <br>\n",
    "Отвергаем нулевую гипотизу - исходное утверждение, что средние пользовательские рейтинги жанров Action и Sports разные - верно."
   ]
  },
  {
   "cell_type": "markdown",
   "metadata": {},
   "source": [
    "## Общий вывод"
   ]
  },
  {
   "cell_type": "markdown",
   "metadata": {},
   "source": [
    "### Подготовка данных"
   ]
  },
  {
   "cell_type": "markdown",
   "metadata": {},
   "source": [
    "- Была проведена процедура ознакомления с данными, были выявлены пропуски и несоотведствие формата столбцов с внутренним их содержимым.\n",
    "- Были обработаны пропуски и заменены значения TBD в столбце user_score на NaN.\n",
    "- Столбцы с большим обьемом пропусков - без изменений во избежании искажений данных.\n",
    "- Произведен расчет значения total_sales - общих продаж по всему миру соотведствующей игры\n",
    "- Были заполнены пропуски в графе rating на \"не определен\""
   ]
  },
  {
   "cell_type": "markdown",
   "metadata": {},
   "source": [
    "### Иследовательский анализ данных"
   ]
  },
  {
   "cell_type": "markdown",
   "metadata": {},
   "source": [
    "- Рост выпуска игр начинаеться 1995 года, с периода расцвета первых консолей, пик приходиться на 2008-2010 года.\n",
    "- Срок службы консоли в среднем от 7 до 10 лет, всвязи с этим для анализа была взята точка отсчета 2013 год.\n",
    "- Самые потенциально прибыльные платформы PS4, Xbox One, 3DS.\n",
    "- Наибольшая медиана по продажам у старого поколения консолей - PS3 и Xbox 360 (что подтверждает первый пункт, ведь именно в период 2008 по 2010 год выпускались консоли дданного поколения).\n",
    "- Больше всего игр с жанром Action(экшн) и Shooter(шутер) - хоть и шутер уступает значительно жанру экшн, но один шутер в среднем приносит прибыль как 5 игр жанра экшн."
   ]
  },
  {
   "cell_type": "markdown",
   "metadata": {},
   "source": [
    "### Портрет пользователя региона"
   ]
  },
  {
   "cell_type": "markdown",
   "metadata": {},
   "source": [
    "- В NA и EU предпочитают Xbox и PS в почти равной доле, в Японии же предпочитают DS.\n",
    "- В Европе и Америке схожие вкусы на жанры игр - экшен, шутер, спорт и гонки, в Японии предпочитают РПГ.\n",
    "- Во всех регионах игры с рейтингом E (игры без ограничений по возрасту) в топе, но все же игр с рейтингом в Японии меньше т.к рейтинг введен для США и Канады."
   ]
  },
  {
   "cell_type": "markdown",
   "metadata": {},
   "source": [
    "### Проверка гипотиз"
   ]
  },
  {
   "cell_type": "markdown",
   "metadata": {},
   "source": [
    "**Не удалось отвергнуть гипотизу:** Средние пользовательские рейтинги платформ Xbox One и PC одинаковые. <br>\n",
    "**Удалось отвергнуть гипотизу:** Средние пользовательские рейтинги жанров Action и Sports разные,"
   ]
  }
 ],
 "metadata": {
  "ExecuteTimeLog": [
   {
    "duration": 551,
    "start_time": "2022-12-27T13:20:41.676Z"
   },
   {
    "duration": 15,
    "start_time": "2022-12-27T13:21:05.536Z"
   },
   {
    "duration": 51,
    "start_time": "2022-12-27T13:23:38.338Z"
   },
   {
    "duration": 13,
    "start_time": "2022-12-27T13:23:40.735Z"
   },
   {
    "duration": 3,
    "start_time": "2022-12-27T13:23:43.193Z"
   },
   {
    "duration": 15,
    "start_time": "2022-12-27T13:23:46.434Z"
   },
   {
    "duration": 15,
    "start_time": "2022-12-27T13:24:51.833Z"
   },
   {
    "duration": 38,
    "start_time": "2022-12-27T13:25:51.262Z"
   },
   {
    "duration": 112,
    "start_time": "2022-12-27T13:25:56.308Z"
   },
   {
    "duration": 17,
    "start_time": "2022-12-27T13:26:01.562Z"
   },
   {
    "duration": 17,
    "start_time": "2022-12-27T13:36:45.888Z"
   },
   {
    "duration": 20,
    "start_time": "2022-12-27T13:36:55.398Z"
   },
   {
    "duration": 28,
    "start_time": "2022-12-27T13:37:28.375Z"
   },
   {
    "duration": 18,
    "start_time": "2022-12-27T13:37:34.311Z"
   },
   {
    "duration": 13,
    "start_time": "2022-12-27T13:37:40.570Z"
   },
   {
    "duration": 9,
    "start_time": "2022-12-27T13:37:44.735Z"
   },
   {
    "duration": 20,
    "start_time": "2022-12-27T13:37:46.529Z"
   },
   {
    "duration": 12,
    "start_time": "2022-12-27T13:39:37.842Z"
   },
   {
    "duration": 14,
    "start_time": "2022-12-27T13:39:39.673Z"
   },
   {
    "duration": 15,
    "start_time": "2022-12-27T13:41:16.443Z"
   },
   {
    "duration": 14,
    "start_time": "2022-12-27T13:41:18.568Z"
   },
   {
    "duration": 15,
    "start_time": "2022-12-27T13:41:21.584Z"
   },
   {
    "duration": 66,
    "start_time": "2022-12-27T13:42:47.467Z"
   },
   {
    "duration": 15,
    "start_time": "2022-12-27T13:42:48.895Z"
   },
   {
    "duration": 14,
    "start_time": "2022-12-27T13:42:52.631Z"
   },
   {
    "duration": 19,
    "start_time": "2022-12-27T13:44:02.466Z"
   },
   {
    "duration": 8,
    "start_time": "2022-12-27T13:44:18.248Z"
   },
   {
    "duration": 21,
    "start_time": "2022-12-27T13:45:41.970Z"
   },
   {
    "duration": 7,
    "start_time": "2022-12-27T13:45:47.124Z"
   },
   {
    "duration": 20,
    "start_time": "2022-12-27T13:46:01.683Z"
   },
   {
    "duration": 14,
    "start_time": "2022-12-27T13:46:07.644Z"
   },
   {
    "duration": 20,
    "start_time": "2022-12-27T13:46:52.234Z"
   },
   {
    "duration": 10,
    "start_time": "2022-12-27T13:46:56.658Z"
   },
   {
    "duration": 7,
    "start_time": "2022-12-27T13:47:13.634Z"
   },
   {
    "duration": 8,
    "start_time": "2022-12-27T13:47:16.734Z"
   },
   {
    "duration": 24,
    "start_time": "2022-12-27T13:48:19.387Z"
   },
   {
    "duration": 10,
    "start_time": "2022-12-27T13:56:11.704Z"
   },
   {
    "duration": 62,
    "start_time": "2022-12-27T13:56:23.176Z"
   },
   {
    "duration": 3,
    "start_time": "2022-12-27T13:56:25.687Z"
   },
   {
    "duration": 27,
    "start_time": "2022-12-27T13:56:28.153Z"
   },
   {
    "duration": 14,
    "start_time": "2022-12-27T14:00:19.693Z"
   },
   {
    "duration": 12,
    "start_time": "2022-12-27T14:02:37.155Z"
   },
   {
    "duration": 12,
    "start_time": "2022-12-27T14:02:56.103Z"
   },
   {
    "duration": 1058,
    "start_time": "2022-12-27T14:03:20.864Z"
   },
   {
    "duration": 1142,
    "start_time": "2022-12-27T14:03:23.790Z"
   },
   {
    "duration": 1171,
    "start_time": "2022-12-27T14:03:43.945Z"
   },
   {
    "duration": 898,
    "start_time": "2022-12-27T14:03:59.356Z"
   },
   {
    "duration": 819,
    "start_time": "2022-12-27T14:04:09.779Z"
   },
   {
    "duration": 1152,
    "start_time": "2022-12-27T14:04:23.948Z"
   },
   {
    "duration": 857,
    "start_time": "2022-12-27T14:05:29.200Z"
   },
   {
    "duration": 15,
    "start_time": "2022-12-27T14:05:35.560Z"
   },
   {
    "duration": 859,
    "start_time": "2022-12-27T14:05:46.169Z"
   },
   {
    "duration": 826,
    "start_time": "2022-12-27T14:05:49.252Z"
   },
   {
    "duration": 3,
    "start_time": "2022-12-27T14:05:58.379Z"
   },
   {
    "duration": 28,
    "start_time": "2022-12-27T14:06:00.964Z"
   },
   {
    "duration": 22,
    "start_time": "2022-12-27T14:06:09.175Z"
   },
   {
    "duration": 20,
    "start_time": "2022-12-27T14:06:13.378Z"
   },
   {
    "duration": 9,
    "start_time": "2022-12-27T14:06:21.884Z"
   },
   {
    "duration": 6,
    "start_time": "2022-12-27T14:07:22.163Z"
   },
   {
    "duration": 5,
    "start_time": "2022-12-27T14:09:00.063Z"
   },
   {
    "duration": 6,
    "start_time": "2022-12-27T14:09:07.051Z"
   },
   {
    "duration": 58,
    "start_time": "2022-12-27T14:10:41.125Z"
   },
   {
    "duration": 15,
    "start_time": "2022-12-27T14:10:41.185Z"
   },
   {
    "duration": 5,
    "start_time": "2022-12-27T14:10:41.202Z"
   },
   {
    "duration": 32,
    "start_time": "2022-12-27T14:10:41.209Z"
   },
   {
    "duration": 24,
    "start_time": "2022-12-27T14:10:41.243Z"
   },
   {
    "duration": 14,
    "start_time": "2022-12-27T14:10:41.269Z"
   },
   {
    "duration": 13,
    "start_time": "2022-12-27T14:10:41.284Z"
   },
   {
    "duration": 6,
    "start_time": "2022-12-27T14:12:59.625Z"
   },
   {
    "duration": 16,
    "start_time": "2022-12-27T14:13:07.275Z"
   },
   {
    "duration": 14,
    "start_time": "2022-12-27T14:15:08.454Z"
   },
   {
    "duration": 8,
    "start_time": "2022-12-27T14:18:52.146Z"
   },
   {
    "duration": 47,
    "start_time": "2022-12-27T14:19:37.187Z"
   },
   {
    "duration": 9,
    "start_time": "2022-12-27T14:19:46.033Z"
   },
   {
    "duration": 52,
    "start_time": "2022-12-27T14:19:56.830Z"
   },
   {
    "duration": 19,
    "start_time": "2022-12-27T14:19:56.884Z"
   },
   {
    "duration": 4,
    "start_time": "2022-12-27T14:19:56.905Z"
   },
   {
    "duration": 26,
    "start_time": "2022-12-27T14:19:56.911Z"
   },
   {
    "duration": 22,
    "start_time": "2022-12-27T14:19:56.939Z"
   },
   {
    "duration": 8,
    "start_time": "2022-12-27T14:19:56.963Z"
   },
   {
    "duration": 15,
    "start_time": "2022-12-27T14:19:56.973Z"
   },
   {
    "duration": 24,
    "start_time": "2022-12-27T14:19:56.990Z"
   },
   {
    "duration": 8,
    "start_time": "2022-12-27T14:22:50.812Z"
   },
   {
    "duration": 1186,
    "start_time": "2022-12-27T14:22:56.549Z"
   },
   {
    "duration": 14,
    "start_time": "2022-12-27T14:22:57.738Z"
   },
   {
    "duration": 7,
    "start_time": "2022-12-27T14:22:57.753Z"
   },
   {
    "duration": 22,
    "start_time": "2022-12-27T14:22:57.762Z"
   },
   {
    "duration": 15,
    "start_time": "2022-12-27T14:22:57.785Z"
   },
   {
    "duration": 6,
    "start_time": "2022-12-27T14:22:57.811Z"
   },
   {
    "duration": 12,
    "start_time": "2022-12-27T14:22:57.819Z"
   },
   {
    "duration": 5,
    "start_time": "2022-12-27T14:22:57.833Z"
   },
   {
    "duration": 24939,
    "start_time": "2022-12-27T14:22:57.840Z"
   },
   {
    "duration": 113,
    "start_time": "2022-12-27T14:24:16.351Z"
   },
   {
    "duration": 26,
    "start_time": "2022-12-27T14:24:18.886Z"
   },
   {
    "duration": 26,
    "start_time": "2022-12-27T14:24:22.902Z"
   },
   {
    "duration": 20,
    "start_time": "2022-12-27T14:24:46.035Z"
   },
   {
    "duration": 25,
    "start_time": "2022-12-27T14:24:56.629Z"
   },
   {
    "duration": 17,
    "start_time": "2022-12-27T14:25:13.079Z"
   },
   {
    "duration": 6,
    "start_time": "2022-12-27T14:25:17.184Z"
   },
   {
    "duration": 13,
    "start_time": "2022-12-27T14:25:31.130Z"
   },
   {
    "duration": 14,
    "start_time": "2022-12-27T14:25:40.640Z"
   },
   {
    "duration": 497,
    "start_time": "2022-12-27T14:25:45.445Z"
   },
   {
    "duration": 268,
    "start_time": "2022-12-27T14:27:59.314Z"
   },
   {
    "duration": 153,
    "start_time": "2022-12-27T14:28:03.379Z"
   },
   {
    "duration": 155,
    "start_time": "2022-12-27T14:28:08.286Z"
   },
   {
    "duration": 18,
    "start_time": "2022-12-27T14:30:10.271Z"
   },
   {
    "duration": 42,
    "start_time": "2022-12-27T14:32:46.550Z"
   },
   {
    "duration": 12,
    "start_time": "2022-12-27T14:33:03.064Z"
   },
   {
    "duration": 152,
    "start_time": "2022-12-27T14:33:09.308Z"
   },
   {
    "duration": 134,
    "start_time": "2022-12-27T14:33:14.880Z"
   },
   {
    "duration": 16,
    "start_time": "2022-12-27T14:33:44.481Z"
   },
   {
    "duration": 15,
    "start_time": "2022-12-27T14:33:55.457Z"
   },
   {
    "duration": 154,
    "start_time": "2022-12-27T14:34:19.320Z"
   },
   {
    "duration": 130,
    "start_time": "2022-12-27T14:34:46.268Z"
   },
   {
    "duration": 139,
    "start_time": "2022-12-27T14:34:51.834Z"
   },
   {
    "duration": 141,
    "start_time": "2022-12-27T14:36:47.955Z"
   },
   {
    "duration": 145,
    "start_time": "2022-12-27T14:36:54.795Z"
   },
   {
    "duration": 154,
    "start_time": "2022-12-27T14:37:01.405Z"
   },
   {
    "duration": 19,
    "start_time": "2022-12-27T14:37:26.555Z"
   },
   {
    "duration": 63,
    "start_time": "2022-12-27T14:37:43.262Z"
   },
   {
    "duration": 128,
    "start_time": "2022-12-27T14:37:46.026Z"
   },
   {
    "duration": 269,
    "start_time": "2022-12-27T14:37:55.756Z"
   },
   {
    "duration": 272,
    "start_time": "2022-12-27T14:38:07.474Z"
   },
   {
    "duration": 49,
    "start_time": "2022-12-27T14:38:33.579Z"
   },
   {
    "duration": 55,
    "start_time": "2022-12-27T14:38:40.039Z"
   },
   {
    "duration": 264,
    "start_time": "2022-12-27T14:38:45.813Z"
   },
   {
    "duration": 403,
    "start_time": "2022-12-27T14:38:58.077Z"
   },
   {
    "duration": 12,
    "start_time": "2022-12-27T14:39:15.694Z"
   },
   {
    "duration": 14,
    "start_time": "2022-12-27T14:39:25.268Z"
   },
   {
    "duration": 17,
    "start_time": "2022-12-27T14:39:28.312Z"
   },
   {
    "duration": 375,
    "start_time": "2022-12-27T14:39:51.582Z"
   },
   {
    "duration": 426,
    "start_time": "2022-12-27T14:40:32.655Z"
   },
   {
    "duration": 400,
    "start_time": "2022-12-27T14:40:51.637Z"
   },
   {
    "duration": 428,
    "start_time": "2022-12-27T14:40:56.485Z"
   },
   {
    "duration": 58,
    "start_time": "2022-12-27T15:01:30.733Z"
   },
   {
    "duration": 17,
    "start_time": "2022-12-27T15:01:35.522Z"
   },
   {
    "duration": 8654,
    "start_time": "2022-12-27T15:01:48.190Z"
   },
   {
    "duration": 138,
    "start_time": "2022-12-27T15:02:18.029Z"
   },
   {
    "duration": 47,
    "start_time": "2022-12-27T15:04:39.712Z"
   },
   {
    "duration": 47,
    "start_time": "2022-12-27T15:04:41.884Z"
   },
   {
    "duration": 62,
    "start_time": "2022-12-27T15:05:27.066Z"
   },
   {
    "duration": 47,
    "start_time": "2022-12-27T15:05:35.628Z"
   },
   {
    "duration": 53,
    "start_time": "2022-12-27T15:06:00.843Z"
   },
   {
    "duration": 194,
    "start_time": "2022-12-27T15:06:05.658Z"
   },
   {
    "duration": 170,
    "start_time": "2022-12-27T15:07:14.071Z"
   },
   {
    "duration": 158,
    "start_time": "2022-12-27T15:07:42.084Z"
   },
   {
    "duration": 157,
    "start_time": "2022-12-27T15:08:04.449Z"
   },
   {
    "duration": 189,
    "start_time": "2022-12-27T15:08:18.561Z"
   },
   {
    "duration": 215,
    "start_time": "2022-12-27T15:08:38.180Z"
   },
   {
    "duration": 47,
    "start_time": "2022-12-27T15:08:58.575Z"
   },
   {
    "duration": 178,
    "start_time": "2022-12-27T15:09:04.339Z"
   },
   {
    "duration": 208,
    "start_time": "2022-12-27T15:09:23.606Z"
   },
   {
    "duration": 394,
    "start_time": "2022-12-27T15:09:33.226Z"
   },
   {
    "duration": 146,
    "start_time": "2022-12-27T15:09:57.148Z"
   },
   {
    "duration": 136,
    "start_time": "2022-12-27T15:10:21.902Z"
   },
   {
    "duration": 163,
    "start_time": "2022-12-27T15:10:47.541Z"
   },
   {
    "duration": 212,
    "start_time": "2022-12-27T15:11:07.443Z"
   },
   {
    "duration": 245,
    "start_time": "2022-12-27T15:11:23.991Z"
   },
   {
    "duration": 278,
    "start_time": "2022-12-27T15:12:19.457Z"
   },
   {
    "duration": 55,
    "start_time": "2022-12-27T15:13:18.298Z"
   },
   {
    "duration": 287,
    "start_time": "2022-12-27T15:13:21.953Z"
   },
   {
    "duration": 277,
    "start_time": "2022-12-27T15:13:25.016Z"
   },
   {
    "duration": 293,
    "start_time": "2022-12-27T15:13:38.893Z"
   },
   {
    "duration": 289,
    "start_time": "2022-12-27T15:14:32.452Z"
   },
   {
    "duration": 281,
    "start_time": "2022-12-27T15:15:02.580Z"
   },
   {
    "duration": 260,
    "start_time": "2022-12-27T15:15:31.945Z"
   },
   {
    "duration": 69,
    "start_time": "2022-12-27T15:16:07.144Z"
   },
   {
    "duration": 15,
    "start_time": "2022-12-27T15:16:07.216Z"
   },
   {
    "duration": 9,
    "start_time": "2022-12-27T15:16:07.235Z"
   },
   {
    "duration": 20,
    "start_time": "2022-12-27T15:16:07.245Z"
   },
   {
    "duration": 24,
    "start_time": "2022-12-27T15:16:07.268Z"
   },
   {
    "duration": 20,
    "start_time": "2022-12-27T15:16:07.294Z"
   },
   {
    "duration": 13,
    "start_time": "2022-12-27T15:16:07.317Z"
   },
   {
    "duration": 8,
    "start_time": "2022-12-27T15:16:07.332Z"
   },
   {
    "duration": 762,
    "start_time": "2022-12-27T15:16:07.342Z"
   },
   {
    "duration": 410,
    "start_time": "2022-12-27T15:16:08.106Z"
   },
   {
    "duration": 139,
    "start_time": "2022-12-27T15:16:08.518Z"
   },
   {
    "duration": 153,
    "start_time": "2022-12-27T15:16:08.659Z"
   },
   {
    "duration": 132,
    "start_time": "2022-12-27T15:16:08.814Z"
   },
   {
    "duration": 150,
    "start_time": "2022-12-27T15:16:08.948Z"
   },
   {
    "duration": 169,
    "start_time": "2022-12-27T15:16:09.100Z"
   },
   {
    "duration": 167,
    "start_time": "2022-12-27T15:16:09.271Z"
   },
   {
    "duration": 17,
    "start_time": "2022-12-27T15:18:04.158Z"
   },
   {
    "duration": 140,
    "start_time": "2022-12-27T15:18:08.998Z"
   },
   {
    "duration": 15,
    "start_time": "2022-12-27T15:18:16.078Z"
   },
   {
    "duration": 149,
    "start_time": "2022-12-27T15:18:19.142Z"
   },
   {
    "duration": 13,
    "start_time": "2022-12-27T15:22:43.186Z"
   },
   {
    "duration": 16,
    "start_time": "2022-12-27T15:23:00.814Z"
   },
   {
    "duration": 12,
    "start_time": "2022-12-27T15:23:33.865Z"
   },
   {
    "duration": 8,
    "start_time": "2022-12-27T15:23:36.404Z"
   },
   {
    "duration": 9,
    "start_time": "2022-12-27T15:23:56.807Z"
   },
   {
    "duration": 14,
    "start_time": "2022-12-27T15:25:08.577Z"
   },
   {
    "duration": 18,
    "start_time": "2022-12-27T15:25:19.606Z"
   },
   {
    "duration": 10,
    "start_time": "2022-12-27T15:25:28.007Z"
   },
   {
    "duration": 48,
    "start_time": "2022-12-27T15:25:32.463Z"
   },
   {
    "duration": 14,
    "start_time": "2022-12-27T15:25:32.513Z"
   },
   {
    "duration": 3,
    "start_time": "2022-12-27T15:25:32.529Z"
   },
   {
    "duration": 16,
    "start_time": "2022-12-27T15:25:32.533Z"
   },
   {
    "duration": 21,
    "start_time": "2022-12-27T15:25:32.551Z"
   },
   {
    "duration": 16,
    "start_time": "2022-12-27T15:25:32.574Z"
   },
   {
    "duration": 22,
    "start_time": "2022-12-27T15:25:32.591Z"
   },
   {
    "duration": 5,
    "start_time": "2022-12-27T15:25:32.615Z"
   },
   {
    "duration": 213,
    "start_time": "2022-12-27T15:25:32.622Z"
   },
   {
    "duration": 496,
    "start_time": "2022-12-27T15:25:32.837Z"
   },
   {
    "duration": 131,
    "start_time": "2022-12-27T15:25:33.335Z"
   },
   {
    "duration": 153,
    "start_time": "2022-12-27T15:25:33.468Z"
   },
   {
    "duration": 142,
    "start_time": "2022-12-27T15:25:33.622Z"
   },
   {
    "duration": 155,
    "start_time": "2022-12-27T15:25:33.768Z"
   },
   {
    "duration": 182,
    "start_time": "2022-12-27T15:25:33.925Z"
   },
   {
    "duration": 157,
    "start_time": "2022-12-27T15:25:34.112Z"
   },
   {
    "duration": 10,
    "start_time": "2022-12-27T15:25:34.271Z"
   },
   {
    "duration": 753,
    "start_time": "2022-12-27T15:25:49.076Z"
   },
   {
    "duration": 14,
    "start_time": "2022-12-27T15:26:04.385Z"
   },
   {
    "duration": 67,
    "start_time": "2022-12-27T15:26:18.426Z"
   },
   {
    "duration": 22,
    "start_time": "2022-12-27T15:26:18.496Z"
   },
   {
    "duration": 4,
    "start_time": "2022-12-27T15:26:18.521Z"
   },
   {
    "duration": 28,
    "start_time": "2022-12-27T15:26:18.529Z"
   },
   {
    "duration": 18,
    "start_time": "2022-12-27T15:26:18.561Z"
   },
   {
    "duration": 32,
    "start_time": "2022-12-27T15:26:18.582Z"
   },
   {
    "duration": 14,
    "start_time": "2022-12-27T15:26:18.616Z"
   },
   {
    "duration": 7,
    "start_time": "2022-12-27T15:26:18.632Z"
   },
   {
    "duration": 301,
    "start_time": "2022-12-27T15:26:18.642Z"
   },
   {
    "duration": 611,
    "start_time": "2022-12-27T15:26:18.945Z"
   },
   {
    "duration": 171,
    "start_time": "2022-12-27T15:26:19.559Z"
   },
   {
    "duration": 249,
    "start_time": "2022-12-27T15:26:19.732Z"
   },
   {
    "duration": 185,
    "start_time": "2022-12-27T15:26:19.983Z"
   },
   {
    "duration": 179,
    "start_time": "2022-12-27T15:26:20.171Z"
   },
   {
    "duration": 251,
    "start_time": "2022-12-27T15:26:20.352Z"
   },
   {
    "duration": 188,
    "start_time": "2022-12-27T15:26:20.612Z"
   },
   {
    "duration": 17,
    "start_time": "2022-12-27T15:26:20.802Z"
   },
   {
    "duration": 12,
    "start_time": "2022-12-27T15:26:48.712Z"
   },
   {
    "duration": 425,
    "start_time": "2022-12-27T15:26:54.744Z"
   },
   {
    "duration": 403,
    "start_time": "2022-12-27T15:27:00.667Z"
   },
   {
    "duration": 23,
    "start_time": "2022-12-27T15:27:19.659Z"
   },
   {
    "duration": 7,
    "start_time": "2022-12-27T15:27:35.981Z"
   },
   {
    "duration": 9,
    "start_time": "2022-12-27T15:28:58.935Z"
   },
   {
    "duration": 8,
    "start_time": "2022-12-27T15:29:03.227Z"
   },
   {
    "duration": 13,
    "start_time": "2022-12-27T15:29:11.363Z"
   },
   {
    "duration": 9,
    "start_time": "2022-12-27T15:29:14.325Z"
   },
   {
    "duration": 4,
    "start_time": "2022-12-27T15:29:23.178Z"
   },
   {
    "duration": 709,
    "start_time": "2022-12-27T15:29:27.280Z"
   },
   {
    "duration": 6,
    "start_time": "2022-12-27T15:29:36.442Z"
   },
   {
    "duration": 51,
    "start_time": "2022-12-27T15:29:39.958Z"
   },
   {
    "duration": 15,
    "start_time": "2022-12-27T15:29:40.011Z"
   },
   {
    "duration": 3,
    "start_time": "2022-12-27T15:29:40.028Z"
   },
   {
    "duration": 22,
    "start_time": "2022-12-27T15:29:40.033Z"
   },
   {
    "duration": 13,
    "start_time": "2022-12-27T15:29:40.057Z"
   },
   {
    "duration": 19,
    "start_time": "2022-12-27T15:29:40.071Z"
   },
   {
    "duration": 26,
    "start_time": "2022-12-27T15:29:40.092Z"
   },
   {
    "duration": 5,
    "start_time": "2022-12-27T15:29:40.120Z"
   },
   {
    "duration": 189,
    "start_time": "2022-12-27T15:29:40.127Z"
   },
   {
    "duration": 405,
    "start_time": "2022-12-27T15:29:40.318Z"
   },
   {
    "duration": 157,
    "start_time": "2022-12-27T15:29:40.726Z"
   },
   {
    "duration": 187,
    "start_time": "2022-12-27T15:29:40.885Z"
   },
   {
    "duration": 141,
    "start_time": "2022-12-27T15:29:41.073Z"
   },
   {
    "duration": 146,
    "start_time": "2022-12-27T15:29:41.217Z"
   },
   {
    "duration": 169,
    "start_time": "2022-12-27T15:29:41.365Z"
   },
   {
    "duration": 180,
    "start_time": "2022-12-27T15:29:41.536Z"
   },
   {
    "duration": 16,
    "start_time": "2022-12-27T15:29:41.718Z"
   },
   {
    "duration": 15,
    "start_time": "2022-12-27T15:29:54.780Z"
   },
   {
    "duration": 9,
    "start_time": "2022-12-27T15:30:05.956Z"
   },
   {
    "duration": 21,
    "start_time": "2022-12-27T15:30:45.039Z"
   },
   {
    "duration": 19,
    "start_time": "2022-12-27T15:30:50.785Z"
   },
   {
    "duration": 13,
    "start_time": "2022-12-27T15:32:10.739Z"
   },
   {
    "duration": 25,
    "start_time": "2022-12-27T15:32:35.677Z"
   },
   {
    "duration": 18,
    "start_time": "2022-12-27T15:32:45.353Z"
   },
   {
    "duration": 13,
    "start_time": "2022-12-27T15:32:57.960Z"
   },
   {
    "duration": 12,
    "start_time": "2022-12-27T15:33:30.812Z"
   },
   {
    "duration": 6,
    "start_time": "2022-12-27T15:33:33.033Z"
   },
   {
    "duration": 16,
    "start_time": "2022-12-27T15:33:46.323Z"
   },
   {
    "duration": 12,
    "start_time": "2022-12-27T15:33:53.548Z"
   },
   {
    "duration": 11,
    "start_time": "2022-12-27T15:33:59.728Z"
   },
   {
    "duration": 12,
    "start_time": "2022-12-27T15:34:04.483Z"
   },
   {
    "duration": 11,
    "start_time": "2022-12-27T15:34:13.861Z"
   },
   {
    "duration": 271,
    "start_time": "2022-12-27T15:34:31.235Z"
   },
   {
    "duration": 50,
    "start_time": "2022-12-27T15:34:41.058Z"
   },
   {
    "duration": 17,
    "start_time": "2022-12-27T15:34:41.110Z"
   },
   {
    "duration": 18,
    "start_time": "2022-12-27T15:34:41.129Z"
   },
   {
    "duration": 36,
    "start_time": "2022-12-27T15:34:41.149Z"
   },
   {
    "duration": 21,
    "start_time": "2022-12-27T15:34:41.187Z"
   },
   {
    "duration": 22,
    "start_time": "2022-12-27T15:34:41.210Z"
   },
   {
    "duration": 14,
    "start_time": "2022-12-27T15:34:41.234Z"
   },
   {
    "duration": 11,
    "start_time": "2022-12-27T15:34:41.253Z"
   },
   {
    "duration": 184,
    "start_time": "2022-12-27T15:34:41.266Z"
   },
   {
    "duration": 408,
    "start_time": "2022-12-27T15:34:41.452Z"
   },
   {
    "duration": 162,
    "start_time": "2022-12-27T15:34:41.863Z"
   },
   {
    "duration": 182,
    "start_time": "2022-12-27T15:34:42.027Z"
   },
   {
    "duration": 176,
    "start_time": "2022-12-27T15:34:42.211Z"
   },
   {
    "duration": 194,
    "start_time": "2022-12-27T15:34:42.390Z"
   },
   {
    "duration": 208,
    "start_time": "2022-12-27T15:34:42.586Z"
   },
   {
    "duration": 168,
    "start_time": "2022-12-27T15:34:42.796Z"
   },
   {
    "duration": 282,
    "start_time": "2022-12-27T15:34:42.966Z"
   },
   {
    "duration": 189,
    "start_time": "2022-12-27T15:34:47.704Z"
   },
   {
    "duration": 214,
    "start_time": "2022-12-27T15:34:51.635Z"
   },
   {
    "duration": 207,
    "start_time": "2022-12-27T15:34:56.889Z"
   },
   {
    "duration": 10,
    "start_time": "2022-12-27T15:38:13.075Z"
   },
   {
    "duration": 231,
    "start_time": "2022-12-27T15:38:16.273Z"
   },
   {
    "duration": 176,
    "start_time": "2022-12-27T15:38:18.167Z"
   },
   {
    "duration": 56,
    "start_time": "2022-12-27T15:38:58.350Z"
   },
   {
    "duration": 24,
    "start_time": "2022-12-27T15:38:58.408Z"
   },
   {
    "duration": 8,
    "start_time": "2022-12-27T15:38:58.434Z"
   },
   {
    "duration": 24,
    "start_time": "2022-12-27T15:38:58.444Z"
   },
   {
    "duration": 17,
    "start_time": "2022-12-27T15:38:58.471Z"
   },
   {
    "duration": 11,
    "start_time": "2022-12-27T15:38:58.490Z"
   },
   {
    "duration": 22,
    "start_time": "2022-12-27T15:38:58.503Z"
   },
   {
    "duration": 6,
    "start_time": "2022-12-27T15:38:58.527Z"
   },
   {
    "duration": 177,
    "start_time": "2022-12-27T15:38:58.535Z"
   },
   {
    "duration": 402,
    "start_time": "2022-12-27T15:38:58.714Z"
   },
   {
    "duration": 157,
    "start_time": "2022-12-27T15:38:59.118Z"
   },
   {
    "duration": 225,
    "start_time": "2022-12-27T15:38:59.277Z"
   },
   {
    "duration": 132,
    "start_time": "2022-12-27T15:38:59.504Z"
   },
   {
    "duration": 163,
    "start_time": "2022-12-27T15:38:59.638Z"
   },
   {
    "duration": 161,
    "start_time": "2022-12-27T15:38:59.802Z"
   },
   {
    "duration": 168,
    "start_time": "2022-12-27T15:38:59.965Z"
   },
   {
    "duration": 200,
    "start_time": "2022-12-27T15:39:00.135Z"
   },
   {
    "duration": 158,
    "start_time": "2022-12-27T15:39:00.336Z"
   },
   {
    "duration": 162,
    "start_time": "2022-12-27T15:39:00.496Z"
   },
   {
    "duration": 159,
    "start_time": "2022-12-27T15:39:00.660Z"
   },
   {
    "duration": 167,
    "start_time": "2022-12-27T15:39:00.821Z"
   },
   {
    "duration": 145,
    "start_time": "2022-12-27T15:39:00.990Z"
   },
   {
    "duration": 162,
    "start_time": "2022-12-27T15:39:01.137Z"
   },
   {
    "duration": 167,
    "start_time": "2022-12-27T15:39:01.301Z"
   },
   {
    "duration": 18,
    "start_time": "2022-12-27T15:39:56.857Z"
   },
   {
    "duration": 53,
    "start_time": "2022-12-27T15:40:08.911Z"
   },
   {
    "duration": 13,
    "start_time": "2022-12-27T15:40:08.966Z"
   },
   {
    "duration": 6,
    "start_time": "2022-12-27T15:40:08.981Z"
   },
   {
    "duration": 18,
    "start_time": "2022-12-27T15:40:08.988Z"
   },
   {
    "duration": 10,
    "start_time": "2022-12-27T15:40:09.009Z"
   },
   {
    "duration": 16,
    "start_time": "2022-12-27T15:40:09.021Z"
   },
   {
    "duration": 0,
    "start_time": "2022-12-27T15:40:09.040Z"
   },
   {
    "duration": 0,
    "start_time": "2022-12-27T15:40:09.041Z"
   },
   {
    "duration": 0,
    "start_time": "2022-12-27T15:40:09.043Z"
   },
   {
    "duration": 0,
    "start_time": "2022-12-27T15:40:09.045Z"
   },
   {
    "duration": 0,
    "start_time": "2022-12-27T15:40:09.046Z"
   },
   {
    "duration": 0,
    "start_time": "2022-12-27T15:40:09.048Z"
   },
   {
    "duration": 0,
    "start_time": "2022-12-27T15:40:09.050Z"
   },
   {
    "duration": 0,
    "start_time": "2022-12-27T15:40:09.051Z"
   },
   {
    "duration": 0,
    "start_time": "2022-12-27T15:40:09.053Z"
   },
   {
    "duration": 0,
    "start_time": "2022-12-27T15:40:09.054Z"
   },
   {
    "duration": 0,
    "start_time": "2022-12-27T15:40:09.055Z"
   },
   {
    "duration": 0,
    "start_time": "2022-12-27T15:40:09.057Z"
   },
   {
    "duration": 0,
    "start_time": "2022-12-27T15:40:09.059Z"
   },
   {
    "duration": 0,
    "start_time": "2022-12-27T15:40:09.061Z"
   },
   {
    "duration": 0,
    "start_time": "2022-12-27T15:40:09.062Z"
   },
   {
    "duration": 0,
    "start_time": "2022-12-27T15:40:09.063Z"
   },
   {
    "duration": 0,
    "start_time": "2022-12-27T15:40:09.065Z"
   },
   {
    "duration": 0,
    "start_time": "2022-12-27T15:40:09.065Z"
   },
   {
    "duration": 8,
    "start_time": "2022-12-27T15:40:34.125Z"
   },
   {
    "duration": 53,
    "start_time": "2022-12-27T15:40:38.241Z"
   },
   {
    "duration": 14,
    "start_time": "2022-12-27T15:40:38.297Z"
   },
   {
    "duration": 4,
    "start_time": "2022-12-27T15:40:38.313Z"
   },
   {
    "duration": 19,
    "start_time": "2022-12-27T15:40:38.318Z"
   },
   {
    "duration": 12,
    "start_time": "2022-12-27T15:40:38.339Z"
   },
   {
    "duration": 18,
    "start_time": "2022-12-27T15:40:38.353Z"
   },
   {
    "duration": 8,
    "start_time": "2022-12-27T15:40:38.372Z"
   },
   {
    "duration": 11,
    "start_time": "2022-12-27T15:40:38.381Z"
   },
   {
    "duration": 175,
    "start_time": "2022-12-27T15:40:38.411Z"
   },
   {
    "duration": 376,
    "start_time": "2022-12-27T15:40:38.587Z"
   },
   {
    "duration": 141,
    "start_time": "2022-12-27T15:40:38.965Z"
   },
   {
    "duration": 163,
    "start_time": "2022-12-27T15:40:39.112Z"
   },
   {
    "duration": 157,
    "start_time": "2022-12-27T15:40:39.276Z"
   },
   {
    "duration": 161,
    "start_time": "2022-12-27T15:40:39.436Z"
   },
   {
    "duration": 183,
    "start_time": "2022-12-27T15:40:39.599Z"
   },
   {
    "duration": 151,
    "start_time": "2022-12-27T15:40:39.784Z"
   },
   {
    "duration": 201,
    "start_time": "2022-12-27T15:40:39.937Z"
   },
   {
    "duration": 174,
    "start_time": "2022-12-27T15:40:40.140Z"
   },
   {
    "duration": 180,
    "start_time": "2022-12-27T15:40:40.317Z"
   },
   {
    "duration": 168,
    "start_time": "2022-12-27T15:40:40.499Z"
   },
   {
    "duration": 157,
    "start_time": "2022-12-27T15:40:40.669Z"
   },
   {
    "duration": 149,
    "start_time": "2022-12-27T15:40:40.828Z"
   },
   {
    "duration": 176,
    "start_time": "2022-12-27T15:40:40.979Z"
   },
   {
    "duration": 178,
    "start_time": "2022-12-27T15:40:41.157Z"
   },
   {
    "duration": 168,
    "start_time": "2022-12-27T15:41:14.338Z"
   },
   {
    "duration": 166,
    "start_time": "2022-12-27T15:41:57.929Z"
   },
   {
    "duration": 156,
    "start_time": "2022-12-27T15:42:11.932Z"
   },
   {
    "duration": 938,
    "start_time": "2022-12-27T15:42:16.630Z"
   },
   {
    "duration": 276,
    "start_time": "2022-12-27T15:42:20.952Z"
   },
   {
    "duration": 148,
    "start_time": "2022-12-27T15:42:25.485Z"
   },
   {
    "duration": 159,
    "start_time": "2022-12-27T15:42:27.719Z"
   },
   {
    "duration": 162,
    "start_time": "2022-12-27T15:42:30.244Z"
   },
   {
    "duration": 150,
    "start_time": "2022-12-27T15:42:33.576Z"
   },
   {
    "duration": 159,
    "start_time": "2022-12-27T15:42:58.482Z"
   },
   {
    "duration": 148,
    "start_time": "2022-12-27T15:48:08.328Z"
   },
   {
    "duration": 156,
    "start_time": "2022-12-27T15:52:12.781Z"
   },
   {
    "duration": 13,
    "start_time": "2022-12-27T15:52:22.833Z"
   },
   {
    "duration": 17,
    "start_time": "2022-12-27T15:52:29.011Z"
   },
   {
    "duration": 12,
    "start_time": "2022-12-27T15:52:43.771Z"
   },
   {
    "duration": 7,
    "start_time": "2022-12-27T15:52:58.371Z"
   },
   {
    "duration": 10,
    "start_time": "2022-12-27T15:53:04.181Z"
   },
   {
    "duration": 13,
    "start_time": "2022-12-27T15:53:22.786Z"
   },
   {
    "duration": 14,
    "start_time": "2022-12-27T15:53:30.076Z"
   },
   {
    "duration": 19,
    "start_time": "2022-12-27T15:53:33.512Z"
   },
   {
    "duration": 9,
    "start_time": "2022-12-27T15:53:35.834Z"
   },
   {
    "duration": 9,
    "start_time": "2022-12-27T15:53:59.601Z"
   },
   {
    "duration": 10,
    "start_time": "2022-12-27T15:54:04.734Z"
   },
   {
    "duration": 8,
    "start_time": "2022-12-27T15:54:20.046Z"
   },
   {
    "duration": 8,
    "start_time": "2022-12-27T15:54:24.533Z"
   },
   {
    "duration": 7,
    "start_time": "2022-12-27T15:54:43.643Z"
   },
   {
    "duration": 2850,
    "start_time": "2022-12-27T15:54:48.210Z"
   },
   {
    "duration": 263,
    "start_time": "2022-12-27T15:55:19.602Z"
   },
   {
    "duration": 152,
    "start_time": "2022-12-27T15:56:34.752Z"
   },
   {
    "duration": 143,
    "start_time": "2022-12-27T15:56:52.349Z"
   },
   {
    "duration": 172,
    "start_time": "2022-12-27T15:57:07.179Z"
   },
   {
    "duration": 163,
    "start_time": "2022-12-27T15:57:41.240Z"
   },
   {
    "duration": 215,
    "start_time": "2022-12-27T15:58:02.595Z"
   },
   {
    "duration": 247,
    "start_time": "2022-12-27T15:58:23.180Z"
   },
   {
    "duration": 208,
    "start_time": "2022-12-27T15:58:38.921Z"
   },
   {
    "duration": 201,
    "start_time": "2022-12-27T15:58:55.280Z"
   },
   {
    "duration": 263,
    "start_time": "2022-12-27T16:00:10.963Z"
   },
   {
    "duration": 270,
    "start_time": "2022-12-27T16:00:38.657Z"
   },
   {
    "duration": 236,
    "start_time": "2022-12-27T16:00:59.637Z"
   },
   {
    "duration": 244,
    "start_time": "2022-12-27T16:01:04.529Z"
   },
   {
    "duration": 263,
    "start_time": "2022-12-27T16:01:09.389Z"
   },
   {
    "duration": 256,
    "start_time": "2022-12-27T16:01:23.640Z"
   },
   {
    "duration": 239,
    "start_time": "2022-12-27T16:02:13.560Z"
   },
   {
    "duration": 260,
    "start_time": "2022-12-27T16:02:38.970Z"
   },
   {
    "duration": 252,
    "start_time": "2022-12-27T16:02:42.237Z"
   },
   {
    "duration": 277,
    "start_time": "2022-12-27T16:05:04.056Z"
   },
   {
    "duration": 213,
    "start_time": "2022-12-27T16:07:01.702Z"
   },
   {
    "duration": 365,
    "start_time": "2022-12-27T16:07:03.623Z"
   },
   {
    "duration": 192,
    "start_time": "2022-12-27T16:07:27.226Z"
   },
   {
    "duration": 324,
    "start_time": "2022-12-27T16:07:29.199Z"
   },
   {
    "duration": 234,
    "start_time": "2022-12-27T16:09:53.341Z"
   },
   {
    "duration": 248,
    "start_time": "2022-12-27T16:10:40.141Z"
   },
   {
    "duration": 323,
    "start_time": "2022-12-27T16:15:40.743Z"
   },
   {
    "duration": 200,
    "start_time": "2022-12-27T16:16:28.052Z"
   },
   {
    "duration": 359,
    "start_time": "2022-12-27T16:16:40.274Z"
   },
   {
    "duration": 9,
    "start_time": "2022-12-27T16:18:12.070Z"
   },
   {
    "duration": 15,
    "start_time": "2022-12-27T16:18:20.044Z"
   },
   {
    "duration": 362,
    "start_time": "2022-12-27T16:18:26.673Z"
   },
   {
    "duration": 373,
    "start_time": "2022-12-27T16:18:38.225Z"
   },
   {
    "duration": 362,
    "start_time": "2022-12-27T16:19:41.871Z"
   },
   {
    "duration": 799,
    "start_time": "2022-12-27T16:21:38.725Z"
   },
   {
    "duration": 266,
    "start_time": "2022-12-27T16:22:11.345Z"
   },
   {
    "duration": 259,
    "start_time": "2022-12-27T16:22:21.727Z"
   },
   {
    "duration": 289,
    "start_time": "2022-12-27T16:22:36.501Z"
   },
   {
    "duration": 431,
    "start_time": "2022-12-27T16:24:28.509Z"
   },
   {
    "duration": 340,
    "start_time": "2022-12-27T16:24:45.758Z"
   },
   {
    "duration": 13,
    "start_time": "2022-12-27T16:30:03.644Z"
   },
   {
    "duration": 348,
    "start_time": "2022-12-27T16:31:12.833Z"
   },
   {
    "duration": 144,
    "start_time": "2022-12-27T16:31:29.867Z"
   },
   {
    "duration": 153,
    "start_time": "2022-12-27T16:31:39.143Z"
   },
   {
    "duration": 155,
    "start_time": "2022-12-27T16:31:43.510Z"
   },
   {
    "duration": 146,
    "start_time": "2022-12-27T16:32:02.272Z"
   },
   {
    "duration": 292,
    "start_time": "2022-12-27T16:32:46.343Z"
   },
   {
    "duration": 18,
    "start_time": "2022-12-27T16:33:21.817Z"
   },
   {
    "duration": 5,
    "start_time": "2022-12-27T16:33:41.274Z"
   },
   {
    "duration": 20,
    "start_time": "2022-12-27T16:33:45.870Z"
   },
   {
    "duration": 12,
    "start_time": "2022-12-27T16:34:17.225Z"
   },
   {
    "duration": 61,
    "start_time": "2022-12-27T16:34:29.135Z"
   },
   {
    "duration": 54,
    "start_time": "2022-12-27T16:34:32.372Z"
   },
   {
    "duration": 13,
    "start_time": "2022-12-27T16:34:35.224Z"
   },
   {
    "duration": 16,
    "start_time": "2022-12-27T16:34:37.509Z"
   },
   {
    "duration": 5,
    "start_time": "2022-12-27T16:34:49.952Z"
   },
   {
    "duration": 21,
    "start_time": "2022-12-27T16:34:55.807Z"
   },
   {
    "duration": 11,
    "start_time": "2022-12-27T16:35:14.225Z"
   },
   {
    "duration": 241,
    "start_time": "2022-12-27T16:35:17.168Z"
   },
   {
    "duration": 75,
    "start_time": "2022-12-27T16:35:46.374Z"
   },
   {
    "duration": 142,
    "start_time": "2022-12-27T16:35:54.596Z"
   },
   {
    "duration": 139,
    "start_time": "2022-12-27T16:37:07.630Z"
   },
   {
    "duration": 146,
    "start_time": "2022-12-27T16:37:12.426Z"
   },
   {
    "duration": 153,
    "start_time": "2022-12-27T16:37:19.372Z"
   },
   {
    "duration": 37,
    "start_time": "2022-12-27T16:40:15.731Z"
   },
   {
    "duration": 11,
    "start_time": "2022-12-27T16:43:26.236Z"
   },
   {
    "duration": 11,
    "start_time": "2022-12-27T16:45:21.101Z"
   },
   {
    "duration": 62,
    "start_time": "2022-12-27T16:45:29.364Z"
   },
   {
    "duration": 18,
    "start_time": "2022-12-27T16:45:34.233Z"
   },
   {
    "duration": 17,
    "start_time": "2022-12-27T16:45:42.032Z"
   },
   {
    "duration": 60,
    "start_time": "2022-12-27T16:45:46.632Z"
   },
   {
    "duration": 5,
    "start_time": "2022-12-27T16:45:55.038Z"
   },
   {
    "duration": 12,
    "start_time": "2022-12-27T16:47:27.469Z"
   },
   {
    "duration": 49,
    "start_time": "2022-12-27T16:54:47.796Z"
   },
   {
    "duration": 53,
    "start_time": "2022-12-27T16:55:11.630Z"
   },
   {
    "duration": 52,
    "start_time": "2022-12-27T16:56:22.094Z"
   },
   {
    "duration": 10,
    "start_time": "2022-12-27T16:56:32.513Z"
   },
   {
    "duration": 15,
    "start_time": "2022-12-27T16:56:50.905Z"
   },
   {
    "duration": 44,
    "start_time": "2022-12-27T16:57:00.407Z"
   },
   {
    "duration": 46,
    "start_time": "2022-12-27T16:57:02.546Z"
   },
   {
    "duration": 356,
    "start_time": "2022-12-27T17:01:03.448Z"
   },
   {
    "duration": 157,
    "start_time": "2022-12-27T17:01:19.774Z"
   },
   {
    "duration": 173,
    "start_time": "2022-12-27T17:01:27.710Z"
   },
   {
    "duration": 156,
    "start_time": "2022-12-27T17:01:38.236Z"
   },
   {
    "duration": 357,
    "start_time": "2022-12-27T17:01:44.395Z"
   },
   {
    "duration": 254,
    "start_time": "2022-12-27T17:07:33.276Z"
   },
   {
    "duration": 151,
    "start_time": "2022-12-27T17:07:47.543Z"
   },
   {
    "duration": 246,
    "start_time": "2022-12-27T17:10:13.240Z"
   },
   {
    "duration": 256,
    "start_time": "2022-12-27T17:10:22.696Z"
   },
   {
    "duration": 248,
    "start_time": "2022-12-27T17:12:51.631Z"
   },
   {
    "duration": 406,
    "start_time": "2022-12-27T17:13:09.878Z"
   },
   {
    "duration": 13,
    "start_time": "2022-12-27T17:24:16.523Z"
   },
   {
    "duration": 13,
    "start_time": "2022-12-27T17:24:31.455Z"
   },
   {
    "duration": 194,
    "start_time": "2022-12-27T17:24:47.725Z"
   },
   {
    "duration": 327,
    "start_time": "2022-12-27T17:25:14.776Z"
   },
   {
    "duration": 150,
    "start_time": "2022-12-27T17:25:41.324Z"
   },
   {
    "duration": 187,
    "start_time": "2022-12-27T17:25:54.457Z"
   },
   {
    "duration": 334,
    "start_time": "2022-12-27T17:26:20.124Z"
   },
   {
    "duration": 318,
    "start_time": "2022-12-27T17:31:38.656Z"
   },
   {
    "duration": 360,
    "start_time": "2022-12-27T17:31:48.921Z"
   },
   {
    "duration": 1289,
    "start_time": "2022-12-27T17:35:43.988Z"
   },
   {
    "duration": 43,
    "start_time": "2022-12-27T17:36:54.849Z"
   },
   {
    "duration": 199,
    "start_time": "2022-12-27T17:37:39.310Z"
   },
   {
    "duration": 207,
    "start_time": "2022-12-27T17:37:48.538Z"
   },
   {
    "duration": 14,
    "start_time": "2022-12-27T17:38:22.232Z"
   },
   {
    "duration": 1132,
    "start_time": "2022-12-27T17:39:57.147Z"
   },
   {
    "duration": 14,
    "start_time": "2022-12-27T17:39:58.282Z"
   },
   {
    "duration": 3,
    "start_time": "2022-12-27T17:39:58.297Z"
   },
   {
    "duration": 20,
    "start_time": "2022-12-27T17:39:58.302Z"
   },
   {
    "duration": 8,
    "start_time": "2022-12-27T17:39:58.324Z"
   },
   {
    "duration": 20,
    "start_time": "2022-12-27T17:39:58.334Z"
   },
   {
    "duration": 20,
    "start_time": "2022-12-27T17:39:58.355Z"
   },
   {
    "duration": 9,
    "start_time": "2022-12-27T17:39:58.376Z"
   },
   {
    "duration": 185,
    "start_time": "2022-12-27T17:39:58.386Z"
   },
   {
    "duration": 378,
    "start_time": "2022-12-27T17:39:58.572Z"
   },
   {
    "duration": 214,
    "start_time": "2022-12-27T17:39:58.952Z"
   },
   {
    "duration": 115,
    "start_time": "2022-12-27T17:39:59.168Z"
   },
   {
    "duration": 0,
    "start_time": "2022-12-27T17:39:59.284Z"
   },
   {
    "duration": 0,
    "start_time": "2022-12-27T17:39:59.286Z"
   },
   {
    "duration": 0,
    "start_time": "2022-12-27T17:39:59.287Z"
   },
   {
    "duration": 0,
    "start_time": "2022-12-27T17:39:59.288Z"
   },
   {
    "duration": 0,
    "start_time": "2022-12-27T17:39:59.289Z"
   },
   {
    "duration": 0,
    "start_time": "2022-12-27T17:39:59.290Z"
   },
   {
    "duration": 322,
    "start_time": "2022-12-27T17:41:24.251Z"
   },
   {
    "duration": 57,
    "start_time": "2022-12-27T17:41:26.332Z"
   },
   {
    "duration": 18,
    "start_time": "2022-12-27T17:41:26.393Z"
   },
   {
    "duration": 3,
    "start_time": "2022-12-27T17:41:26.413Z"
   },
   {
    "duration": 22,
    "start_time": "2022-12-27T17:41:26.418Z"
   },
   {
    "duration": 15,
    "start_time": "2022-12-27T17:41:26.443Z"
   },
   {
    "duration": 12,
    "start_time": "2022-12-27T17:41:26.460Z"
   },
   {
    "duration": 18,
    "start_time": "2022-12-27T17:41:26.474Z"
   },
   {
    "duration": 7,
    "start_time": "2022-12-27T17:41:26.512Z"
   },
   {
    "duration": 246,
    "start_time": "2022-12-27T17:41:26.521Z"
   },
   {
    "duration": 436,
    "start_time": "2022-12-27T17:41:26.769Z"
   },
   {
    "duration": 337,
    "start_time": "2022-12-27T17:41:27.212Z"
   },
   {
    "duration": 384,
    "start_time": "2022-12-27T17:41:27.551Z"
   },
   {
    "duration": 44,
    "start_time": "2022-12-27T17:41:27.936Z"
   },
   {
    "duration": 386,
    "start_time": "2022-12-27T17:41:27.984Z"
   },
   {
    "duration": 325,
    "start_time": "2022-12-27T17:41:28.373Z"
   },
   {
    "duration": 324,
    "start_time": "2022-12-27T17:41:28.699Z"
   },
   {
    "duration": 198,
    "start_time": "2022-12-27T17:41:29.025Z"
   },
   {
    "duration": 8,
    "start_time": "2022-12-27T17:41:29.225Z"
   },
   {
    "duration": 194,
    "start_time": "2022-12-27T17:41:45.005Z"
   },
   {
    "duration": 40,
    "start_time": "2022-12-27T17:45:28.621Z"
   },
   {
    "duration": 609,
    "start_time": "2022-12-27T17:45:56.993Z"
   },
   {
    "duration": 33,
    "start_time": "2022-12-27T17:46:22.309Z"
   },
   {
    "duration": 50,
    "start_time": "2022-12-27T17:46:24.796Z"
   },
   {
    "duration": 16,
    "start_time": "2022-12-27T19:25:25.024Z"
   },
   {
    "duration": 26,
    "start_time": "2022-12-27T19:25:59.769Z"
   },
   {
    "duration": 8,
    "start_time": "2022-12-27T19:26:40.808Z"
   },
   {
    "duration": 21,
    "start_time": "2022-12-27T19:26:49.507Z"
   },
   {
    "duration": 13,
    "start_time": "2022-12-27T19:26:58.010Z"
   },
   {
    "duration": 19,
    "start_time": "2022-12-27T19:27:10.127Z"
   },
   {
    "duration": 29,
    "start_time": "2022-12-27T19:27:59.424Z"
   },
   {
    "duration": 26,
    "start_time": "2022-12-27T19:28:09.811Z"
   },
   {
    "duration": 19,
    "start_time": "2022-12-27T19:28:48.510Z"
   },
   {
    "duration": 950,
    "start_time": "2022-12-27T19:29:00.108Z"
   },
   {
    "duration": 9,
    "start_time": "2022-12-27T19:29:13.980Z"
   },
   {
    "duration": 150,
    "start_time": "2022-12-27T19:29:17.420Z"
   },
   {
    "duration": 130,
    "start_time": "2022-12-27T19:29:23.054Z"
   },
   {
    "duration": 12,
    "start_time": "2022-12-27T19:29:38.602Z"
   },
   {
    "duration": 13,
    "start_time": "2022-12-27T19:29:51.974Z"
   },
   {
    "duration": 151,
    "start_time": "2022-12-27T19:29:54.671Z"
   },
   {
    "duration": 153,
    "start_time": "2022-12-27T19:29:59.361Z"
   },
   {
    "duration": 182,
    "start_time": "2022-12-27T19:30:28.829Z"
   },
   {
    "duration": 183,
    "start_time": "2022-12-27T19:30:40.656Z"
   },
   {
    "duration": 173,
    "start_time": "2022-12-27T19:31:40.933Z"
   },
   {
    "duration": 468,
    "start_time": "2022-12-27T19:31:45.567Z"
   },
   {
    "duration": 136,
    "start_time": "2022-12-27T19:32:12.330Z"
   },
   {
    "duration": 140,
    "start_time": "2022-12-27T19:32:17.849Z"
   },
   {
    "duration": 9,
    "start_time": "2022-12-27T19:32:57.998Z"
   },
   {
    "duration": 45,
    "start_time": "2022-12-27T19:34:56.929Z"
   },
   {
    "duration": 1200,
    "start_time": "2022-12-27T19:35:01.543Z"
   },
   {
    "duration": 13,
    "start_time": "2022-12-27T19:35:02.745Z"
   },
   {
    "duration": 6,
    "start_time": "2022-12-27T19:35:02.760Z"
   },
   {
    "duration": 18,
    "start_time": "2022-12-27T19:35:02.768Z"
   },
   {
    "duration": 7,
    "start_time": "2022-12-27T19:35:02.788Z"
   },
   {
    "duration": 22,
    "start_time": "2022-12-27T19:35:02.796Z"
   },
   {
    "duration": 8,
    "start_time": "2022-12-27T19:35:02.820Z"
   },
   {
    "duration": 5,
    "start_time": "2022-12-27T19:35:02.830Z"
   },
   {
    "duration": 193,
    "start_time": "2022-12-27T19:35:02.836Z"
   },
   {
    "duration": 361,
    "start_time": "2022-12-27T19:35:03.031Z"
   },
   {
    "duration": 218,
    "start_time": "2022-12-27T19:35:03.394Z"
   },
   {
    "duration": 316,
    "start_time": "2022-12-27T19:35:03.613Z"
   },
   {
    "duration": 32,
    "start_time": "2022-12-27T19:35:03.931Z"
   },
   {
    "duration": 398,
    "start_time": "2022-12-27T19:35:03.966Z"
   },
   {
    "duration": 375,
    "start_time": "2022-12-27T19:35:04.365Z"
   },
   {
    "duration": 457,
    "start_time": "2022-12-27T19:35:04.742Z"
   },
   {
    "duration": 588,
    "start_time": "2022-12-27T19:35:05.202Z"
   },
   {
    "duration": 48,
    "start_time": "2022-12-27T19:35:05.792Z"
   },
   {
    "duration": 219,
    "start_time": "2022-12-27T19:35:05.842Z"
   },
   {
    "duration": 8,
    "start_time": "2022-12-27T19:35:06.063Z"
   },
   {
    "duration": 152,
    "start_time": "2022-12-27T19:36:20.865Z"
   },
   {
    "duration": 162,
    "start_time": "2022-12-27T19:36:36.935Z"
   },
   {
    "duration": 150,
    "start_time": "2022-12-27T19:36:57.162Z"
   },
   {
    "duration": 165,
    "start_time": "2022-12-27T19:38:24.508Z"
   },
   {
    "duration": 170,
    "start_time": "2022-12-27T19:38:37.350Z"
   },
   {
    "duration": 158,
    "start_time": "2022-12-27T19:38:58.760Z"
   },
   {
    "duration": 325,
    "start_time": "2022-12-27T19:43:33.720Z"
   },
   {
    "duration": 185,
    "start_time": "2022-12-27T19:43:53.149Z"
   },
   {
    "duration": 183,
    "start_time": "2022-12-27T19:44:08.669Z"
   },
   {
    "duration": 173,
    "start_time": "2022-12-27T19:44:17.765Z"
   },
   {
    "duration": 190,
    "start_time": "2022-12-27T19:48:02.376Z"
   },
   {
    "duration": 160,
    "start_time": "2022-12-27T19:51:17.484Z"
   },
   {
    "duration": 12,
    "start_time": "2022-12-27T19:58:16.956Z"
   },
   {
    "duration": 6,
    "start_time": "2022-12-27T20:08:03.443Z"
   },
   {
    "duration": 4,
    "start_time": "2022-12-27T20:09:30.362Z"
   },
   {
    "duration": 5,
    "start_time": "2022-12-27T20:09:34.434Z"
   },
   {
    "duration": 3,
    "start_time": "2022-12-27T20:10:41.457Z"
   },
   {
    "duration": 4,
    "start_time": "2022-12-27T20:11:59.046Z"
   },
   {
    "duration": 4,
    "start_time": "2022-12-27T20:13:08.459Z"
   },
   {
    "duration": 5,
    "start_time": "2022-12-27T20:13:35.435Z"
   },
   {
    "duration": 49,
    "start_time": "2022-12-27T20:19:31.077Z"
   },
   {
    "duration": 6,
    "start_time": "2022-12-27T20:19:35.955Z"
   },
   {
    "duration": 5,
    "start_time": "2022-12-27T20:19:48.273Z"
   },
   {
    "duration": 2,
    "start_time": "2022-12-27T20:20:03.842Z"
   },
   {
    "duration": 5,
    "start_time": "2022-12-27T20:20:22.125Z"
   },
   {
    "duration": 63,
    "start_time": "2022-12-27T20:25:45.679Z"
   },
   {
    "duration": 5,
    "start_time": "2022-12-27T20:25:49.787Z"
   },
   {
    "duration": 9,
    "start_time": "2022-12-27T20:25:52.541Z"
   },
   {
    "duration": 49,
    "start_time": "2022-12-27T22:09:36.040Z"
   },
   {
    "duration": 1079,
    "start_time": "2022-12-27T22:09:50.929Z"
   },
   {
    "duration": 13,
    "start_time": "2022-12-27T22:09:52.010Z"
   },
   {
    "duration": 4,
    "start_time": "2022-12-27T22:09:52.025Z"
   },
   {
    "duration": 22,
    "start_time": "2022-12-27T22:09:52.030Z"
   },
   {
    "duration": 7,
    "start_time": "2022-12-27T22:09:52.053Z"
   },
   {
    "duration": 15,
    "start_time": "2022-12-27T22:09:52.062Z"
   },
   {
    "duration": 7,
    "start_time": "2022-12-27T22:09:52.078Z"
   },
   {
    "duration": 9,
    "start_time": "2022-12-27T22:09:52.086Z"
   },
   {
    "duration": 13,
    "start_time": "2022-12-27T22:09:52.096Z"
   },
   {
    "duration": 71,
    "start_time": "2022-12-27T22:09:52.111Z"
   },
   {
    "duration": 161,
    "start_time": "2022-12-27T22:09:52.183Z"
   },
   {
    "duration": 342,
    "start_time": "2022-12-27T22:09:52.346Z"
   },
   {
    "duration": 209,
    "start_time": "2022-12-27T22:09:52.689Z"
   },
   {
    "duration": 306,
    "start_time": "2022-12-27T22:09:52.900Z"
   },
   {
    "duration": 31,
    "start_time": "2022-12-27T22:09:53.208Z"
   },
   {
    "duration": 339,
    "start_time": "2022-12-27T22:09:53.240Z"
   },
   {
    "duration": 324,
    "start_time": "2022-12-27T22:09:53.580Z"
   },
   {
    "duration": 11,
    "start_time": "2022-12-27T22:09:53.905Z"
   },
   {
    "duration": 361,
    "start_time": "2022-12-27T22:09:53.917Z"
   },
   {
    "duration": 536,
    "start_time": "2022-12-27T22:09:54.280Z"
   },
   {
    "duration": 45,
    "start_time": "2022-12-27T22:09:54.817Z"
   },
   {
    "duration": 206,
    "start_time": "2022-12-27T22:09:54.876Z"
   },
   {
    "duration": 163,
    "start_time": "2022-12-27T22:09:55.083Z"
   },
   {
    "duration": 184,
    "start_time": "2022-12-27T22:09:55.248Z"
   },
   {
    "duration": 151,
    "start_time": "2022-12-27T22:09:55.433Z"
   },
   {
    "duration": 244,
    "start_time": "2022-12-27T22:09:55.586Z"
   },
   {
    "duration": 186,
    "start_time": "2022-12-27T22:09:55.831Z"
   },
   {
    "duration": 182,
    "start_time": "2022-12-27T22:09:56.021Z"
   },
   {
    "duration": 242,
    "start_time": "2022-12-27T22:09:56.205Z"
   },
   {
    "duration": 188,
    "start_time": "2022-12-27T22:09:56.449Z"
   },
   {
    "duration": 7,
    "start_time": "2022-12-27T22:09:56.638Z"
   },
   {
    "duration": 12,
    "start_time": "2022-12-27T22:09:56.646Z"
   },
   {
    "duration": 16,
    "start_time": "2022-12-27T22:09:56.660Z"
   },
   {
    "duration": 9,
    "start_time": "2022-12-27T22:09:56.677Z"
   },
   {
    "duration": 7,
    "start_time": "2022-12-27T22:09:56.687Z"
   },
   {
    "duration": 7,
    "start_time": "2022-12-27T22:09:56.695Z"
   },
   {
    "duration": 17,
    "start_time": "2022-12-27T22:09:56.704Z"
   },
   {
    "duration": 8,
    "start_time": "2022-12-27T22:09:56.723Z"
   },
   {
    "duration": 8,
    "start_time": "2022-12-27T22:17:23.191Z"
   },
   {
    "duration": 54,
    "start_time": "2022-12-28T09:22:40.352Z"
   },
   {
    "duration": 1538,
    "start_time": "2022-12-28T09:22:44.230Z"
   },
   {
    "duration": 31,
    "start_time": "2022-12-28T09:22:45.771Z"
   },
   {
    "duration": 13,
    "start_time": "2022-12-28T09:22:45.804Z"
   },
   {
    "duration": 40,
    "start_time": "2022-12-28T09:22:45.818Z"
   },
   {
    "duration": 25,
    "start_time": "2022-12-28T09:22:45.861Z"
   },
   {
    "duration": 14,
    "start_time": "2022-12-28T09:22:45.889Z"
   },
   {
    "duration": 8,
    "start_time": "2022-12-28T09:22:45.904Z"
   },
   {
    "duration": 8,
    "start_time": "2022-12-28T09:22:45.914Z"
   },
   {
    "duration": 11,
    "start_time": "2022-12-28T09:22:45.923Z"
   },
   {
    "duration": 77,
    "start_time": "2022-12-28T09:22:45.936Z"
   },
   {
    "duration": 219,
    "start_time": "2022-12-28T09:22:46.015Z"
   },
   {
    "duration": 414,
    "start_time": "2022-12-28T09:22:46.236Z"
   },
   {
    "duration": 221,
    "start_time": "2022-12-28T09:22:46.652Z"
   },
   {
    "duration": 371,
    "start_time": "2022-12-28T09:22:46.875Z"
   },
   {
    "duration": 49,
    "start_time": "2022-12-28T09:22:47.248Z"
   },
   {
    "duration": 373,
    "start_time": "2022-12-28T09:22:47.299Z"
   },
   {
    "duration": 361,
    "start_time": "2022-12-28T09:22:47.674Z"
   },
   {
    "duration": 11,
    "start_time": "2022-12-28T09:22:48.036Z"
   },
   {
    "duration": 416,
    "start_time": "2022-12-28T09:22:48.049Z"
   },
   {
    "duration": 585,
    "start_time": "2022-12-28T09:22:48.466Z"
   },
   {
    "duration": 64,
    "start_time": "2022-12-28T09:22:49.052Z"
   },
   {
    "duration": 276,
    "start_time": "2022-12-28T09:22:49.118Z"
   },
   {
    "duration": 164,
    "start_time": "2022-12-28T09:22:49.396Z"
   },
   {
    "duration": 175,
    "start_time": "2022-12-28T09:22:49.561Z"
   },
   {
    "duration": 175,
    "start_time": "2022-12-28T09:22:49.738Z"
   },
   {
    "duration": 284,
    "start_time": "2022-12-28T09:22:49.914Z"
   },
   {
    "duration": 204,
    "start_time": "2022-12-28T09:22:50.200Z"
   },
   {
    "duration": 203,
    "start_time": "2022-12-28T09:22:50.406Z"
   },
   {
    "duration": 289,
    "start_time": "2022-12-28T09:22:50.610Z"
   },
   {
    "duration": 238,
    "start_time": "2022-12-28T09:22:50.901Z"
   },
   {
    "duration": 9,
    "start_time": "2022-12-28T09:22:51.140Z"
   },
   {
    "duration": 43,
    "start_time": "2022-12-28T09:22:51.150Z"
   },
   {
    "duration": 13,
    "start_time": "2022-12-28T09:22:51.195Z"
   },
   {
    "duration": 33,
    "start_time": "2022-12-28T09:22:51.209Z"
   },
   {
    "duration": 48,
    "start_time": "2022-12-28T09:22:51.244Z"
   },
   {
    "duration": 25,
    "start_time": "2022-12-28T09:22:51.293Z"
   },
   {
    "duration": 33,
    "start_time": "2022-12-28T09:22:51.320Z"
   },
   {
    "duration": 18,
    "start_time": "2022-12-28T09:22:51.355Z"
   },
   {
    "duration": 46,
    "start_time": "2022-12-28T09:22:51.375Z"
   },
   {
    "duration": 57,
    "start_time": "2022-12-28T14:37:22.360Z"
   },
   {
    "duration": 1399,
    "start_time": "2022-12-28T14:37:26.743Z"
   },
   {
    "duration": 485,
    "start_time": "2022-12-28T14:37:28.145Z"
   },
   {
    "duration": 17,
    "start_time": "2022-12-28T14:37:28.632Z"
   },
   {
    "duration": 21,
    "start_time": "2022-12-28T14:37:28.651Z"
   },
   {
    "duration": 24,
    "start_time": "2022-12-28T14:37:28.674Z"
   },
   {
    "duration": 24,
    "start_time": "2022-12-28T14:37:28.701Z"
   },
   {
    "duration": 19,
    "start_time": "2022-12-28T14:37:28.727Z"
   },
   {
    "duration": 26,
    "start_time": "2022-12-28T14:37:28.748Z"
   },
   {
    "duration": 24,
    "start_time": "2022-12-28T14:37:28.777Z"
   },
   {
    "duration": 52,
    "start_time": "2022-12-28T14:37:28.803Z"
   },
   {
    "duration": 126,
    "start_time": "2022-12-28T14:37:28.857Z"
   },
   {
    "duration": 219,
    "start_time": "2022-12-28T14:37:28.985Z"
   },
   {
    "duration": 400,
    "start_time": "2022-12-28T14:37:29.206Z"
   },
   {
    "duration": 228,
    "start_time": "2022-12-28T14:37:29.615Z"
   },
   {
    "duration": 350,
    "start_time": "2022-12-28T14:37:29.844Z"
   },
   {
    "duration": 72,
    "start_time": "2022-12-28T14:37:30.196Z"
   },
   {
    "duration": 434,
    "start_time": "2022-12-28T14:37:30.269Z"
   },
   {
    "duration": 355,
    "start_time": "2022-12-28T14:37:30.705Z"
   },
   {
    "duration": 12,
    "start_time": "2022-12-28T14:37:31.061Z"
   },
   {
    "duration": 467,
    "start_time": "2022-12-28T14:37:31.075Z"
   },
   {
    "duration": 570,
    "start_time": "2022-12-28T14:37:31.543Z"
   },
   {
    "duration": 41,
    "start_time": "2022-12-28T14:37:32.114Z"
   },
   {
    "duration": 250,
    "start_time": "2022-12-28T14:37:32.157Z"
   },
   {
    "duration": 180,
    "start_time": "2022-12-28T14:37:32.410Z"
   },
   {
    "duration": 179,
    "start_time": "2022-12-28T14:37:32.592Z"
   },
   {
    "duration": 183,
    "start_time": "2022-12-28T14:37:32.772Z"
   },
   {
    "duration": 295,
    "start_time": "2022-12-28T14:37:32.956Z"
   },
   {
    "duration": 221,
    "start_time": "2022-12-28T14:37:33.252Z"
   },
   {
    "duration": 208,
    "start_time": "2022-12-28T14:37:33.475Z"
   },
   {
    "duration": 291,
    "start_time": "2022-12-28T14:37:33.684Z"
   },
   {
    "duration": 214,
    "start_time": "2022-12-28T14:37:33.976Z"
   },
   {
    "duration": 9,
    "start_time": "2022-12-28T14:37:34.192Z"
   },
   {
    "duration": 43,
    "start_time": "2022-12-28T14:37:34.203Z"
   },
   {
    "duration": 36,
    "start_time": "2022-12-28T14:37:34.248Z"
   },
   {
    "duration": 47,
    "start_time": "2022-12-28T14:37:34.286Z"
   },
   {
    "duration": 33,
    "start_time": "2022-12-28T14:37:34.335Z"
   },
   {
    "duration": 34,
    "start_time": "2022-12-28T14:37:34.369Z"
   },
   {
    "duration": 42,
    "start_time": "2022-12-28T14:37:34.405Z"
   },
   {
    "duration": 30,
    "start_time": "2022-12-28T14:37:34.449Z"
   },
   {
    "duration": 69,
    "start_time": "2022-12-28T14:37:34.481Z"
   },
   {
    "duration": 358,
    "start_time": "2022-12-28T14:42:50.372Z"
   },
   {
    "duration": 336,
    "start_time": "2022-12-28T14:43:19.657Z"
   },
   {
    "duration": 390,
    "start_time": "2022-12-28T14:44:36.256Z"
   },
   {
    "duration": 376,
    "start_time": "2022-12-28T14:50:39.018Z"
   },
   {
    "duration": 164,
    "start_time": "2022-12-28T14:50:51.499Z"
   },
   {
    "duration": 388,
    "start_time": "2022-12-28T14:52:26.742Z"
   },
   {
    "duration": 615,
    "start_time": "2022-12-28T14:52:38.239Z"
   },
   {
    "duration": 404,
    "start_time": "2022-12-28T14:54:16.925Z"
   },
   {
    "duration": 402,
    "start_time": "2022-12-28T14:54:23.213Z"
   },
   {
    "duration": 345,
    "start_time": "2022-12-28T14:54:33.534Z"
   },
   {
    "duration": 536,
    "start_time": "2022-12-28T14:54:37.335Z"
   },
   {
    "duration": 440,
    "start_time": "2022-12-28T14:55:33.633Z"
   },
   {
    "duration": 455,
    "start_time": "2022-12-28T14:55:41.732Z"
   },
   {
    "duration": 940,
    "start_time": "2022-12-28T14:56:33.840Z"
   },
   {
    "duration": 929,
    "start_time": "2022-12-28T14:58:45.665Z"
   },
   {
    "duration": 111,
    "start_time": "2022-12-28T15:00:05.141Z"
   },
   {
    "duration": 17,
    "start_time": "2022-12-28T15:00:26.434Z"
   },
   {
    "duration": 17,
    "start_time": "2022-12-28T15:00:28.466Z"
   },
   {
    "duration": 16,
    "start_time": "2022-12-28T15:00:31.574Z"
   },
   {
    "duration": 998,
    "start_time": "2022-12-28T15:00:44.372Z"
   },
   {
    "duration": 1115,
    "start_time": "2022-12-28T15:00:48.326Z"
   },
   {
    "duration": 289,
    "start_time": "2022-12-28T15:01:40.612Z"
   },
   {
    "duration": 253,
    "start_time": "2022-12-28T15:01:54.712Z"
   },
   {
    "duration": 234,
    "start_time": "2022-12-28T15:01:56.760Z"
   },
   {
    "duration": 1027,
    "start_time": "2022-12-28T15:02:00.473Z"
   },
   {
    "duration": 535,
    "start_time": "2022-12-28T15:06:26.979Z"
   },
   {
    "duration": 432,
    "start_time": "2022-12-28T15:06:42.936Z"
   },
   {
    "duration": 172,
    "start_time": "2022-12-28T15:07:02.419Z"
   },
   {
    "duration": 664,
    "start_time": "2022-12-28T15:07:06.632Z"
   },
   {
    "duration": 949,
    "start_time": "2022-12-28T15:07:32.979Z"
   },
   {
    "duration": 1535,
    "start_time": "2022-12-28T15:07:46.012Z"
   },
   {
    "duration": 1100,
    "start_time": "2022-12-28T15:08:45.411Z"
   },
   {
    "duration": 943,
    "start_time": "2022-12-28T15:09:29.011Z"
   },
   {
    "duration": 262,
    "start_time": "2022-12-28T15:12:07.083Z"
   },
   {
    "duration": 1097,
    "start_time": "2022-12-28T15:12:28.355Z"
   },
   {
    "duration": 925,
    "start_time": "2022-12-28T15:12:47.282Z"
   },
   {
    "duration": 993,
    "start_time": "2022-12-28T15:13:22.130Z"
   },
   {
    "duration": 12,
    "start_time": "2022-12-28T15:13:31.867Z"
   },
   {
    "duration": 18,
    "start_time": "2022-12-28T15:13:35.548Z"
   },
   {
    "duration": 956,
    "start_time": "2022-12-28T15:13:49.348Z"
   },
   {
    "duration": 1340,
    "start_time": "2022-12-28T15:14:22.942Z"
   },
   {
    "duration": 707,
    "start_time": "2022-12-28T15:19:30.612Z"
   },
   {
    "duration": 15,
    "start_time": "2022-12-28T15:25:06.035Z"
   },
   {
    "duration": 11,
    "start_time": "2022-12-28T15:25:53.066Z"
   },
   {
    "duration": 12,
    "start_time": "2022-12-28T15:26:04.978Z"
   },
   {
    "duration": 10,
    "start_time": "2022-12-28T15:26:11.346Z"
   },
   {
    "duration": 7,
    "start_time": "2022-12-28T15:27:03.075Z"
   },
   {
    "duration": 8,
    "start_time": "2022-12-28T15:27:04.468Z"
   },
   {
    "duration": 9,
    "start_time": "2022-12-28T15:27:08.002Z"
   },
   {
    "duration": 1291,
    "start_time": "2022-12-28T15:28:53.282Z"
   },
   {
    "duration": 1334,
    "start_time": "2022-12-28T15:29:09.958Z"
   },
   {
    "duration": 1300,
    "start_time": "2022-12-28T15:31:01.856Z"
   },
   {
    "duration": 1257,
    "start_time": "2022-12-28T15:31:08.134Z"
   },
   {
    "duration": 79,
    "start_time": "2022-12-28T15:31:21.276Z"
   },
   {
    "duration": 1205,
    "start_time": "2022-12-28T15:31:31.841Z"
   },
   {
    "duration": 29,
    "start_time": "2022-12-28T15:34:37.537Z"
   },
   {
    "duration": 3,
    "start_time": "2022-12-28T15:34:51.167Z"
   },
   {
    "duration": 67,
    "start_time": "2022-12-28T15:34:51.172Z"
   },
   {
    "duration": 18,
    "start_time": "2022-12-28T15:34:51.241Z"
   },
   {
    "duration": 3,
    "start_time": "2022-12-28T15:34:51.260Z"
   },
   {
    "duration": 17,
    "start_time": "2022-12-28T15:34:51.265Z"
   },
   {
    "duration": 31,
    "start_time": "2022-12-28T15:34:51.284Z"
   },
   {
    "duration": 27,
    "start_time": "2022-12-28T15:34:51.317Z"
   },
   {
    "duration": 9,
    "start_time": "2022-12-28T15:34:51.346Z"
   },
   {
    "duration": 23,
    "start_time": "2022-12-28T15:34:51.356Z"
   },
   {
    "duration": 0,
    "start_time": "2022-12-28T15:34:51.381Z"
   },
   {
    "duration": 0,
    "start_time": "2022-12-28T15:34:51.382Z"
   },
   {
    "duration": 0,
    "start_time": "2022-12-28T15:34:51.384Z"
   },
   {
    "duration": 0,
    "start_time": "2022-12-28T15:34:51.386Z"
   },
   {
    "duration": 0,
    "start_time": "2022-12-28T15:34:51.387Z"
   },
   {
    "duration": 0,
    "start_time": "2022-12-28T15:34:51.388Z"
   },
   {
    "duration": 0,
    "start_time": "2022-12-28T15:34:51.390Z"
   },
   {
    "duration": 0,
    "start_time": "2022-12-28T15:34:51.391Z"
   },
   {
    "duration": 0,
    "start_time": "2022-12-28T15:34:51.393Z"
   },
   {
    "duration": 0,
    "start_time": "2022-12-28T15:34:51.393Z"
   },
   {
    "duration": 0,
    "start_time": "2022-12-28T15:34:51.395Z"
   },
   {
    "duration": 0,
    "start_time": "2022-12-28T15:34:51.396Z"
   },
   {
    "duration": 0,
    "start_time": "2022-12-28T15:34:51.418Z"
   },
   {
    "duration": 0,
    "start_time": "2022-12-28T15:34:51.419Z"
   },
   {
    "duration": 0,
    "start_time": "2022-12-28T15:34:51.419Z"
   },
   {
    "duration": 0,
    "start_time": "2022-12-28T15:34:51.421Z"
   },
   {
    "duration": 0,
    "start_time": "2022-12-28T15:34:51.423Z"
   },
   {
    "duration": 0,
    "start_time": "2022-12-28T15:34:51.425Z"
   },
   {
    "duration": 0,
    "start_time": "2022-12-28T15:34:51.426Z"
   },
   {
    "duration": 0,
    "start_time": "2022-12-28T15:34:51.428Z"
   },
   {
    "duration": 0,
    "start_time": "2022-12-28T15:34:51.429Z"
   },
   {
    "duration": 0,
    "start_time": "2022-12-28T15:34:51.431Z"
   },
   {
    "duration": 0,
    "start_time": "2022-12-28T15:34:51.432Z"
   },
   {
    "duration": 0,
    "start_time": "2022-12-28T15:34:51.433Z"
   },
   {
    "duration": 0,
    "start_time": "2022-12-28T15:34:51.436Z"
   },
   {
    "duration": 0,
    "start_time": "2022-12-28T15:34:51.437Z"
   },
   {
    "duration": 0,
    "start_time": "2022-12-28T15:34:51.438Z"
   },
   {
    "duration": 0,
    "start_time": "2022-12-28T15:34:51.439Z"
   },
   {
    "duration": 0,
    "start_time": "2022-12-28T15:34:51.440Z"
   },
   {
    "duration": 0,
    "start_time": "2022-12-28T15:34:51.440Z"
   },
   {
    "duration": 0,
    "start_time": "2022-12-28T15:34:51.441Z"
   },
   {
    "duration": 0,
    "start_time": "2022-12-28T15:34:51.442Z"
   },
   {
    "duration": 5,
    "start_time": "2022-12-28T15:35:26.282Z"
   },
   {
    "duration": 5,
    "start_time": "2022-12-28T15:35:28.401Z"
   },
   {
    "duration": 67,
    "start_time": "2022-12-28T15:35:28.408Z"
   },
   {
    "duration": 13,
    "start_time": "2022-12-28T15:35:28.477Z"
   },
   {
    "duration": 3,
    "start_time": "2022-12-28T15:35:28.492Z"
   },
   {
    "duration": 22,
    "start_time": "2022-12-28T15:35:28.497Z"
   },
   {
    "duration": 22,
    "start_time": "2022-12-28T15:35:28.521Z"
   },
   {
    "duration": 12,
    "start_time": "2022-12-28T15:35:28.545Z"
   },
   {
    "duration": 19,
    "start_time": "2022-12-28T15:35:28.559Z"
   },
   {
    "duration": 8,
    "start_time": "2022-12-28T15:35:28.580Z"
   },
   {
    "duration": 14,
    "start_time": "2022-12-28T15:35:28.589Z"
   },
   {
    "duration": 97,
    "start_time": "2022-12-28T15:35:28.604Z"
   },
   {
    "duration": 196,
    "start_time": "2022-12-28T15:35:28.703Z"
   },
   {
    "duration": 374,
    "start_time": "2022-12-28T15:35:28.901Z"
   },
   {
    "duration": 247,
    "start_time": "2022-12-28T15:35:29.278Z"
   },
   {
    "duration": 317,
    "start_time": "2022-12-28T15:35:29.532Z"
   },
   {
    "duration": 36,
    "start_time": "2022-12-28T15:35:29.850Z"
   },
   {
    "duration": 393,
    "start_time": "2022-12-28T15:35:29.888Z"
   },
   {
    "duration": 877,
    "start_time": "2022-12-28T15:35:30.282Z"
   },
   {
    "duration": 706,
    "start_time": "2022-12-28T15:35:31.213Z"
   },
   {
    "duration": 13,
    "start_time": "2022-12-28T15:35:31.922Z"
   },
   {
    "duration": 1284,
    "start_time": "2022-12-28T15:35:31.937Z"
   },
   {
    "duration": 569,
    "start_time": "2022-12-28T15:35:33.226Z"
   },
   {
    "duration": 53,
    "start_time": "2022-12-28T15:35:33.796Z"
   },
   {
    "duration": 242,
    "start_time": "2022-12-28T15:35:33.851Z"
   },
   {
    "duration": 183,
    "start_time": "2022-12-28T15:35:34.095Z"
   },
   {
    "duration": 183,
    "start_time": "2022-12-28T15:35:34.280Z"
   },
   {
    "duration": 178,
    "start_time": "2022-12-28T15:35:34.465Z"
   },
   {
    "duration": 295,
    "start_time": "2022-12-28T15:35:34.645Z"
   },
   {
    "duration": 1273,
    "start_time": "2022-12-28T15:35:34.942Z"
   },
   {
    "duration": 0,
    "start_time": "2022-12-28T15:35:36.219Z"
   },
   {
    "duration": 0,
    "start_time": "2022-12-28T15:35:36.224Z"
   },
   {
    "duration": 0,
    "start_time": "2022-12-28T15:35:36.225Z"
   },
   {
    "duration": 0,
    "start_time": "2022-12-28T15:35:36.226Z"
   },
   {
    "duration": 0,
    "start_time": "2022-12-28T15:35:36.227Z"
   },
   {
    "duration": 0,
    "start_time": "2022-12-28T15:35:36.228Z"
   },
   {
    "duration": 0,
    "start_time": "2022-12-28T15:35:36.229Z"
   },
   {
    "duration": 0,
    "start_time": "2022-12-28T15:35:36.230Z"
   },
   {
    "duration": 0,
    "start_time": "2022-12-28T15:35:36.231Z"
   },
   {
    "duration": 0,
    "start_time": "2022-12-28T15:35:36.232Z"
   },
   {
    "duration": 0,
    "start_time": "2022-12-28T15:35:36.233Z"
   },
   {
    "duration": 0,
    "start_time": "2022-12-28T15:35:36.234Z"
   },
   {
    "duration": 194,
    "start_time": "2022-12-28T15:36:27.502Z"
   },
   {
    "duration": 172,
    "start_time": "2022-12-28T15:36:46.030Z"
   },
   {
    "duration": 249,
    "start_time": "2022-12-28T15:46:06.660Z"
   },
   {
    "duration": 207,
    "start_time": "2022-12-28T15:46:08.235Z"
   },
   {
    "duration": 17,
    "start_time": "2022-12-28T15:53:08.136Z"
   },
   {
    "duration": 15,
    "start_time": "2022-12-28T15:53:15.128Z"
   },
   {
    "duration": 81,
    "start_time": "2022-12-28T15:53:53.506Z"
   },
   {
    "duration": 96,
    "start_time": "2022-12-28T15:54:45.450Z"
   },
   {
    "duration": 48,
    "start_time": "2022-12-28T15:54:48.770Z"
   },
   {
    "duration": 195,
    "start_time": "2022-12-28T15:57:53.268Z"
   },
   {
    "duration": 435,
    "start_time": "2022-12-28T15:58:13.968Z"
   },
   {
    "duration": 103,
    "start_time": "2022-12-28T16:00:20.321Z"
   },
   {
    "duration": 88,
    "start_time": "2022-12-28T16:00:26.244Z"
   },
   {
    "duration": 91,
    "start_time": "2022-12-28T16:00:31.974Z"
   },
   {
    "duration": 170,
    "start_time": "2022-12-28T16:00:41.202Z"
   },
   {
    "duration": 198,
    "start_time": "2022-12-28T16:00:56.851Z"
   },
   {
    "duration": 168,
    "start_time": "2022-12-28T16:01:01.437Z"
   },
   {
    "duration": 349,
    "start_time": "2022-12-28T16:01:20.949Z"
   },
   {
    "duration": 663,
    "start_time": "2022-12-28T16:01:45.800Z"
   },
   {
    "duration": 636,
    "start_time": "2022-12-28T16:01:51.932Z"
   },
   {
    "duration": 691,
    "start_time": "2022-12-28T16:01:59.102Z"
   },
   {
    "duration": 649,
    "start_time": "2022-12-28T16:02:10.391Z"
   },
   {
    "duration": 74,
    "start_time": "2022-12-28T16:04:46.239Z"
   },
   {
    "duration": 117,
    "start_time": "2022-12-28T16:04:53.265Z"
   },
   {
    "duration": 116,
    "start_time": "2022-12-28T16:05:12.000Z"
   },
   {
    "duration": 4,
    "start_time": "2022-12-28T16:05:34.970Z"
   },
   {
    "duration": 3,
    "start_time": "2022-12-28T16:06:15.469Z"
   },
   {
    "duration": 114,
    "start_time": "2022-12-28T16:07:23.876Z"
   },
   {
    "duration": 21,
    "start_time": "2022-12-28T16:07:28.312Z"
   },
   {
    "duration": 15,
    "start_time": "2022-12-28T16:08:43.652Z"
   },
   {
    "duration": 9,
    "start_time": "2022-12-28T16:09:06.168Z"
   },
   {
    "duration": 4,
    "start_time": "2022-12-28T16:09:14.869Z"
   },
   {
    "duration": 871,
    "start_time": "2022-12-28T16:09:41.950Z"
   },
   {
    "duration": 717,
    "start_time": "2022-12-28T16:10:13.511Z"
   },
   {
    "duration": 636,
    "start_time": "2022-12-28T16:11:08.013Z"
   },
   {
    "duration": 644,
    "start_time": "2022-12-28T16:11:32.035Z"
   },
   {
    "duration": 735,
    "start_time": "2022-12-28T16:12:05.748Z"
   },
   {
    "duration": 894,
    "start_time": "2022-12-28T16:12:27.934Z"
   },
   {
    "duration": 1079,
    "start_time": "2022-12-28T16:12:38.400Z"
   },
   {
    "duration": 863,
    "start_time": "2022-12-28T16:17:22.003Z"
   },
   {
    "duration": 844,
    "start_time": "2022-12-28T16:17:31.564Z"
   },
   {
    "duration": 72,
    "start_time": "2022-12-28T16:19:05.847Z"
   },
   {
    "duration": 624,
    "start_time": "2022-12-28T16:19:13.539Z"
   },
   {
    "duration": 1168,
    "start_time": "2022-12-29T11:39:32.724Z"
   },
   {
    "duration": 52,
    "start_time": "2022-12-29T11:39:33.894Z"
   },
   {
    "duration": 17,
    "start_time": "2022-12-29T11:39:33.948Z"
   },
   {
    "duration": 24,
    "start_time": "2022-12-29T11:39:33.967Z"
   },
   {
    "duration": 4,
    "start_time": "2022-12-29T11:39:33.993Z"
   },
   {
    "duration": 28,
    "start_time": "2022-12-29T11:39:33.999Z"
   },
   {
    "duration": 31,
    "start_time": "2022-12-29T11:39:34.029Z"
   },
   {
    "duration": 6,
    "start_time": "2022-12-29T11:39:34.062Z"
   },
   {
    "duration": 13,
    "start_time": "2022-12-29T11:39:34.070Z"
   },
   {
    "duration": 4,
    "start_time": "2022-12-29T11:39:34.085Z"
   },
   {
    "duration": 9,
    "start_time": "2022-12-29T11:39:34.091Z"
   },
   {
    "duration": 143,
    "start_time": "2022-12-29T11:39:34.101Z"
   },
   {
    "duration": 216,
    "start_time": "2022-12-29T11:39:34.246Z"
   },
   {
    "duration": 387,
    "start_time": "2022-12-29T11:39:34.465Z"
   },
   {
    "duration": 211,
    "start_time": "2022-12-29T11:39:34.853Z"
   },
   {
    "duration": 319,
    "start_time": "2022-12-29T11:39:35.066Z"
   },
   {
    "duration": 33,
    "start_time": "2022-12-29T11:39:35.387Z"
   },
   {
    "duration": 352,
    "start_time": "2022-12-29T11:39:35.422Z"
   },
   {
    "duration": 447,
    "start_time": "2022-12-29T11:39:35.776Z"
   },
   {
    "duration": 315,
    "start_time": "2022-12-29T11:39:36.225Z"
   },
   {
    "duration": 18,
    "start_time": "2022-12-29T11:39:36.542Z"
   },
   {
    "duration": 10,
    "start_time": "2022-12-29T11:39:36.561Z"
   },
   {
    "duration": 824,
    "start_time": "2022-12-29T11:39:36.572Z"
   },
   {
    "duration": 579,
    "start_time": "2022-12-29T11:39:37.398Z"
   },
   {
    "duration": 38,
    "start_time": "2022-12-29T11:39:37.979Z"
   },
   {
    "duration": 254,
    "start_time": "2022-12-29T11:39:38.019Z"
   },
   {
    "duration": 163,
    "start_time": "2022-12-29T11:39:38.275Z"
   },
   {
    "duration": 166,
    "start_time": "2022-12-29T11:39:38.440Z"
   },
   {
    "duration": 262,
    "start_time": "2022-12-29T11:39:38.607Z"
   },
   {
    "duration": 254,
    "start_time": "2022-12-29T11:39:38.870Z"
   },
   {
    "duration": 203,
    "start_time": "2022-12-29T11:39:39.126Z"
   },
   {
    "duration": 222,
    "start_time": "2022-12-29T11:39:39.331Z"
   },
   {
    "duration": 198,
    "start_time": "2022-12-29T11:39:39.554Z"
   },
   {
    "duration": 689,
    "start_time": "2022-12-29T11:39:39.754Z"
   },
   {
    "duration": 209,
    "start_time": "2022-12-29T11:39:40.445Z"
   },
   {
    "duration": 9,
    "start_time": "2022-12-29T11:39:40.656Z"
   },
   {
    "duration": 6,
    "start_time": "2022-12-29T11:39:40.666Z"
   },
   {
    "duration": 7,
    "start_time": "2022-12-29T11:39:40.674Z"
   },
   {
    "duration": 4,
    "start_time": "2022-12-29T11:39:40.683Z"
   },
   {
    "duration": 7,
    "start_time": "2022-12-29T11:39:40.689Z"
   },
   {
    "duration": 7,
    "start_time": "2022-12-29T11:39:40.702Z"
   },
   {
    "duration": 42,
    "start_time": "2022-12-29T11:39:40.710Z"
   },
   {
    "duration": 3,
    "start_time": "2022-12-29T11:39:40.754Z"
   },
   {
    "duration": 17,
    "start_time": "2022-12-29T11:39:40.759Z"
   },
   {
    "duration": 49,
    "start_time": "2022-12-29T13:12:21.075Z"
   },
   {
    "duration": 1344,
    "start_time": "2022-12-29T13:12:23.443Z"
   },
   {
    "duration": 96,
    "start_time": "2022-12-29T13:12:24.789Z"
   },
   {
    "duration": 16,
    "start_time": "2022-12-29T13:12:24.887Z"
   },
   {
    "duration": 18,
    "start_time": "2022-12-29T13:12:24.905Z"
   },
   {
    "duration": 3,
    "start_time": "2022-12-29T13:12:24.926Z"
   },
   {
    "duration": 22,
    "start_time": "2022-12-29T13:12:24.930Z"
   },
   {
    "duration": 13,
    "start_time": "2022-12-29T13:12:24.957Z"
   },
   {
    "duration": 25,
    "start_time": "2022-12-29T13:12:24.971Z"
   },
   {
    "duration": 10,
    "start_time": "2022-12-29T13:12:24.998Z"
   },
   {
    "duration": 5,
    "start_time": "2022-12-29T13:12:25.009Z"
   },
   {
    "duration": 13,
    "start_time": "2022-12-29T13:12:25.016Z"
   },
   {
    "duration": 102,
    "start_time": "2022-12-29T13:12:25.031Z"
   },
   {
    "duration": 231,
    "start_time": "2022-12-29T13:12:25.135Z"
   },
   {
    "duration": 414,
    "start_time": "2022-12-29T13:12:25.370Z"
   },
   {
    "duration": 276,
    "start_time": "2022-12-29T13:12:25.785Z"
   },
   {
    "duration": 401,
    "start_time": "2022-12-29T13:12:26.063Z"
   },
   {
    "duration": 43,
    "start_time": "2022-12-29T13:12:26.466Z"
   },
   {
    "duration": 387,
    "start_time": "2022-12-29T13:12:26.511Z"
   },
   {
    "duration": 498,
    "start_time": "2022-12-29T13:12:26.900Z"
   },
   {
    "duration": 346,
    "start_time": "2022-12-29T13:12:27.400Z"
   },
   {
    "duration": 11,
    "start_time": "2022-12-29T13:12:27.748Z"
   },
   {
    "duration": 5,
    "start_time": "2022-12-29T13:12:27.761Z"
   },
   {
    "duration": 972,
    "start_time": "2022-12-29T13:12:27.767Z"
   },
   {
    "duration": 649,
    "start_time": "2022-12-29T13:12:28.741Z"
   },
   {
    "duration": 44,
    "start_time": "2022-12-29T13:12:29.391Z"
   },
   {
    "duration": 375,
    "start_time": "2022-12-29T13:12:29.437Z"
   },
   {
    "duration": 191,
    "start_time": "2022-12-29T13:12:29.813Z"
   },
   {
    "duration": 197,
    "start_time": "2022-12-29T13:12:30.006Z"
   },
   {
    "duration": 193,
    "start_time": "2022-12-29T13:12:30.205Z"
   },
   {
    "duration": 285,
    "start_time": "2022-12-29T13:12:30.401Z"
   },
   {
    "duration": 226,
    "start_time": "2022-12-29T13:12:30.688Z"
   },
   {
    "duration": 216,
    "start_time": "2022-12-29T13:12:30.916Z"
   },
   {
    "duration": 202,
    "start_time": "2022-12-29T13:12:31.134Z"
   },
   {
    "duration": 740,
    "start_time": "2022-12-29T13:12:31.338Z"
   },
   {
    "duration": 202,
    "start_time": "2022-12-29T13:12:32.080Z"
   },
   {
    "duration": 14,
    "start_time": "2022-12-29T13:12:32.284Z"
   },
   {
    "duration": 12,
    "start_time": "2022-12-29T13:12:32.301Z"
   },
   {
    "duration": 8,
    "start_time": "2022-12-29T13:12:32.316Z"
   },
   {
    "duration": 5,
    "start_time": "2022-12-29T13:12:32.327Z"
   },
   {
    "duration": 8,
    "start_time": "2022-12-29T13:12:32.335Z"
   },
   {
    "duration": 8,
    "start_time": "2022-12-29T13:12:32.350Z"
   },
   {
    "duration": 35,
    "start_time": "2022-12-29T13:12:32.362Z"
   },
   {
    "duration": 2,
    "start_time": "2022-12-29T13:12:32.399Z"
   },
   {
    "duration": 13,
    "start_time": "2022-12-29T13:12:32.403Z"
   },
   {
    "duration": 1852,
    "start_time": "2022-12-29T13:14:12.432Z"
   },
   {
    "duration": 1752,
    "start_time": "2022-12-29T13:14:35.873Z"
   },
   {
    "duration": 381,
    "start_time": "2022-12-29T13:18:52.602Z"
   },
   {
    "duration": 554,
    "start_time": "2022-12-29T13:19:07.555Z"
   },
   {
    "duration": 418,
    "start_time": "2022-12-29T13:19:18.640Z"
   },
   {
    "duration": 470,
    "start_time": "2022-12-29T13:19:22.555Z"
   },
   {
    "duration": 441,
    "start_time": "2022-12-29T13:19:27.075Z"
   },
   {
    "duration": 471,
    "start_time": "2022-12-29T13:19:36.854Z"
   },
   {
    "duration": 391,
    "start_time": "2022-12-29T13:19:48.910Z"
   },
   {
    "duration": 527,
    "start_time": "2022-12-29T13:19:56.721Z"
   },
   {
    "duration": 383,
    "start_time": "2022-12-29T13:20:00.207Z"
   },
   {
    "duration": 379,
    "start_time": "2022-12-29T13:20:04.355Z"
   },
   {
    "duration": 422,
    "start_time": "2022-12-29T13:20:43.496Z"
   },
   {
    "duration": 400,
    "start_time": "2022-12-29T13:21:12.308Z"
   },
   {
    "duration": 481,
    "start_time": "2022-12-29T13:21:22.284Z"
   },
   {
    "duration": 661,
    "start_time": "2022-12-29T13:21:25.879Z"
   },
   {
    "duration": 471,
    "start_time": "2022-12-29T13:21:29.539Z"
   },
   {
    "duration": 484,
    "start_time": "2022-12-29T13:21:35.284Z"
   },
   {
    "duration": 505,
    "start_time": "2022-12-29T13:21:38.275Z"
   },
   {
    "duration": 489,
    "start_time": "2022-12-29T13:21:44.083Z"
   },
   {
    "duration": 507,
    "start_time": "2022-12-29T13:21:51.324Z"
   },
   {
    "duration": 540,
    "start_time": "2022-12-29T13:21:55.761Z"
   },
   {
    "duration": 701,
    "start_time": "2022-12-29T13:21:58.502Z"
   },
   {
    "duration": 507,
    "start_time": "2022-12-29T13:22:01.131Z"
   },
   {
    "duration": 541,
    "start_time": "2022-12-29T13:22:04.839Z"
   },
   {
    "duration": 499,
    "start_time": "2022-12-29T13:22:10.438Z"
   },
   {
    "duration": 1935,
    "start_time": "2022-12-29T13:24:03.026Z"
   },
   {
    "duration": 1557,
    "start_time": "2022-12-29T13:24:15.180Z"
   },
   {
    "duration": 1915,
    "start_time": "2022-12-29T13:24:31.806Z"
   },
   {
    "duration": 2266,
    "start_time": "2022-12-29T13:24:48.753Z"
   },
   {
    "duration": 79,
    "start_time": "2022-12-29T13:25:08.115Z"
   },
   {
    "duration": 2119,
    "start_time": "2022-12-29T13:25:33.958Z"
   },
   {
    "duration": 2319,
    "start_time": "2022-12-29T13:26:10.883Z"
   },
   {
    "duration": 1997,
    "start_time": "2022-12-29T13:26:42.215Z"
   },
   {
    "duration": 19,
    "start_time": "2022-12-29T13:27:00.810Z"
   },
   {
    "duration": 1832,
    "start_time": "2022-12-29T13:27:04.909Z"
   },
   {
    "duration": 1651,
    "start_time": "2022-12-29T13:27:34.066Z"
   },
   {
    "duration": 1201,
    "start_time": "2022-12-30T00:36:16.529Z"
   },
   {
    "duration": 53,
    "start_time": "2022-12-30T00:36:17.732Z"
   },
   {
    "duration": 15,
    "start_time": "2022-12-30T00:36:17.787Z"
   },
   {
    "duration": 18,
    "start_time": "2022-12-30T00:36:17.804Z"
   },
   {
    "duration": 3,
    "start_time": "2022-12-30T00:36:17.824Z"
   },
   {
    "duration": 22,
    "start_time": "2022-12-30T00:36:17.828Z"
   },
   {
    "duration": 32,
    "start_time": "2022-12-30T00:36:17.852Z"
   },
   {
    "duration": 7,
    "start_time": "2022-12-30T00:36:17.886Z"
   },
   {
    "duration": 13,
    "start_time": "2022-12-30T00:36:17.894Z"
   },
   {
    "duration": 5,
    "start_time": "2022-12-30T00:36:17.908Z"
   },
   {
    "duration": 8,
    "start_time": "2022-12-30T00:36:17.914Z"
   },
   {
    "duration": 95,
    "start_time": "2022-12-30T00:36:17.924Z"
   },
   {
    "duration": 227,
    "start_time": "2022-12-30T00:36:18.021Z"
   },
   {
    "duration": 426,
    "start_time": "2022-12-30T00:36:18.253Z"
   },
   {
    "duration": 219,
    "start_time": "2022-12-30T00:36:18.681Z"
   },
   {
    "duration": 347,
    "start_time": "2022-12-30T00:36:18.902Z"
   },
   {
    "duration": 45,
    "start_time": "2022-12-30T00:36:19.251Z"
   },
   {
    "duration": 374,
    "start_time": "2022-12-30T00:36:19.297Z"
   },
   {
    "duration": 471,
    "start_time": "2022-12-30T00:36:19.673Z"
   },
   {
    "duration": 353,
    "start_time": "2022-12-30T00:36:20.147Z"
   },
   {
    "duration": 11,
    "start_time": "2022-12-30T00:36:20.502Z"
   },
   {
    "duration": 15,
    "start_time": "2022-12-30T00:36:20.514Z"
   },
   {
    "duration": 1697,
    "start_time": "2022-12-30T00:36:20.530Z"
   },
   {
    "duration": 582,
    "start_time": "2022-12-30T00:36:22.228Z"
   },
   {
    "duration": 39,
    "start_time": "2022-12-30T00:36:22.812Z"
   },
   {
    "duration": 233,
    "start_time": "2022-12-30T00:36:22.852Z"
   },
   {
    "duration": 501,
    "start_time": "2022-12-30T00:36:23.087Z"
   },
   {
    "duration": 271,
    "start_time": "2022-12-30T00:36:23.590Z"
   },
   {
    "duration": 497,
    "start_time": "2022-12-30T00:36:23.863Z"
   },
   {
    "duration": 664,
    "start_time": "2022-12-30T00:36:24.362Z"
   },
   {
    "duration": 188,
    "start_time": "2022-12-30T00:36:25.027Z"
   },
   {
    "duration": 8,
    "start_time": "2022-12-30T00:36:25.217Z"
   },
   {
    "duration": 7,
    "start_time": "2022-12-30T00:36:25.227Z"
   },
   {
    "duration": 18,
    "start_time": "2022-12-30T00:36:25.236Z"
   },
   {
    "duration": 5,
    "start_time": "2022-12-30T00:36:25.256Z"
   },
   {
    "duration": 17,
    "start_time": "2022-12-30T00:36:25.263Z"
   },
   {
    "duration": 7,
    "start_time": "2022-12-30T00:36:25.282Z"
   },
   {
    "duration": 7,
    "start_time": "2022-12-30T00:36:25.291Z"
   },
   {
    "duration": 4,
    "start_time": "2022-12-30T00:36:25.299Z"
   },
   {
    "duration": 7,
    "start_time": "2022-12-30T00:36:25.305Z"
   },
   {
    "duration": 1488,
    "start_time": "2022-12-30T00:45:19.179Z"
   },
   {
    "duration": 1375,
    "start_time": "2022-12-30T00:46:01.319Z"
   }
  ],
  "kernelspec": {
   "display_name": "Python 3 (ipykernel)",
   "language": "python",
   "name": "python3"
  },
  "language_info": {
   "codemirror_mode": {
    "name": "ipython",
    "version": 3
   },
   "file_extension": ".py",
   "mimetype": "text/x-python",
   "name": "python",
   "nbconvert_exporter": "python",
   "pygments_lexer": "ipython3",
   "version": "3.9.13"
  },
  "toc": {
   "base_numbering": 1,
   "nav_menu": {},
   "number_sections": true,
   "sideBar": true,
   "skip_h1_title": true,
   "title_cell": "Table of Contents",
   "title_sidebar": "Contents",
   "toc_cell": false,
   "toc_position": {
    "height": "calc(100% - 180px)",
    "left": "10px",
    "top": "150px",
    "width": "229.398px"
   },
   "toc_section_display": true,
   "toc_window_display": true
  }
 },
 "nbformat": 4,
 "nbformat_minor": 2
}
